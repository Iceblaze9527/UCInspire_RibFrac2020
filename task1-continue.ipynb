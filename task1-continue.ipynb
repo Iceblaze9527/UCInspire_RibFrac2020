{
 "cells": [
  {
   "cell_type": "code",
   "execution_count": 1,
   "metadata": {},
   "outputs": [],
   "source": [
    "import torch\n",
    "import imgaug.augmenters as iaa\n",
    "import numpy as np\n",
    "\n",
    "from architectures import UNet\n",
    "from dataset import dataset_gen\n",
    "import gpu_manager as gm\n",
    "import oper\n",
    "from stats import print_data"
   ]
  },
  {
   "cell_type": "markdown",
   "metadata": {},
   "source": [
    "## 1. Paths"
   ]
  },
  {
   "cell_type": "code",
   "execution_count": 2,
   "metadata": {},
   "outputs": [],
   "source": [
    "train_path = '../RibFrac/preprocessed/train/'\n",
    "val_path = '../RibFrac/preprocessed/val/'\n",
    "\n",
    "model_path = 'saved_models/baseline.tar'\n",
    "save_path = 'saved_models/baseline_16.tar'\n",
    "stats_path = 'stats/baseline_16'"
   ]
  },
  {
   "cell_type": "markdown",
   "metadata": {},
   "source": [
    "## 2. Fix Backend (for reproducing results)"
   ]
  },
  {
   "cell_type": "code",
   "execution_count": 3,
   "metadata": {},
   "outputs": [],
   "source": [
    "seed = 12\n",
    "torch.manual_seed(seed)\n",
    "torch.cuda.manual_seed_all(seed)\n",
    "torch.backends.cudnn.deterministic = True \n",
    "torch.backends.cudnn.benchmark = False"
   ]
  },
  {
   "cell_type": "markdown",
   "metadata": {},
   "source": [
    "## 3. GPU Test"
   ]
  },
  {
   "cell_type": "code",
   "execution_count": 4,
   "metadata": {},
   "outputs": [
    {
     "name": "stdout",
     "output_type": "stream",
     "text": [
      "GPU is available.\n",
      "Choosing the GPU device has largest free memory...\n",
      "Sorted by free memory size\n",
      "Using GPU 0:\n",
      "index:0\n",
      "gpu_name:GeForce RTX 2080 Ti\n",
      "memory.free:10979\n",
      "memory.total:10989\n",
      "power.draw:19\n",
      "power.limit:250\n",
      "specified:True\n"
     ]
    }
   ],
   "source": [
    "if torch.cuda.is_available():\n",
    "    print('GPU is available.')\n",
    "    manager = gm.GPUManager()\n",
    "    device = torch.device(manager.auto_choice())\n",
    "else:\n",
    "    print('GPU is not available. Use CPU instead.')\n",
    "    device = torch.device('cpu')"
   ]
  },
  {
   "cell_type": "markdown",
   "metadata": {},
   "source": [
    "## 4. Data Preprocessing and Augmentation"
   ]
  },
  {
   "cell_type": "code",
   "execution_count": 5,
   "metadata": {},
   "outputs": [
    {
     "name": "stdout",
     "output_type": "stream",
     "text": [
      "train size: 770635\n",
      "val size: 26420\n"
     ]
    }
   ],
   "source": [
    "seqs_train = []\n",
    "seqs_train.append(iaa.Sequential([\n",
    "    iaa.size.Resize(128, interpolation='nearest'),\n",
    "]))\n",
    "seqs_train.append(iaa.Sequential([\n",
    "    iaa.flip.Fliplr(1.0),\n",
    "    iaa.size.Resize(128, interpolation='nearest'),\n",
    "]))\n",
    "seqs_train.append(iaa.Sequential([\n",
    "    iaa.geometric.Affine(rotate=(-15,15), order=0),\n",
    "    iaa.size.Resize(128, interpolation='nearest'),\n",
    "]))\n",
    "seqs_train.append(iaa.Sequential([\n",
    "    iaa.geometric.Affine(scale=(0.8,1.2), order=0),\n",
    "    iaa.size.Resize(128, interpolation='nearest'),\n",
    "]))\n",
    "seqs_train.append(iaa.Sequential([\n",
    "    iaa.geometric.Affine(translate_px=(-32,32)),\n",
    "    iaa.size.Resize(128, interpolation='nearest'),\n",
    "]))\n",
    "\n",
    "seqs_val = [iaa.Sequential([\n",
    "    iaa.size.Resize(128, interpolation='nearest'),\n",
    "])]\n",
    "\n",
    "train_dataset = dataset_gen(train_path, seqs_train)\n",
    "val_dataset = dataset_gen(val_path, seqs_val)\n",
    "\n",
    "print('train size:', len(train_dataset))\n",
    "print('val size:', len(val_dataset))"
   ]
  },
  {
   "cell_type": "markdown",
   "metadata": {},
   "source": [
    "## 5. Reload\n",
    "### 5.1 Model Params (keep consistent with the best model)"
   ]
  },
  {
   "cell_type": "code",
   "execution_count": 6,
   "metadata": {},
   "outputs": [
    {
     "data": {
      "text/plain": [
       "\"\\nArgs:\\n    in_channels (int): number of input channels\\n    n_classes (int): number of output channels\\n    depth (int): depth of the network\\n    wf (int): number of filters in the first layer is 2**wf\\n    padding (bool): if True, apply padding such that the input shape\\n                    is the same as the output.\\n                    This may introduce artifacts\\n    batch_norm (bool): Use BatchNorm after layers with an\\n                       activation function\\n    up_mode (str): one of 'upconv' or 'upsample'.\\n                   'upconv' will use transposed convolutions for\\n                   learned upsampling.\\n                   'upsample' will use bilinear upsampling.\\n\""
      ]
     },
     "execution_count": 6,
     "metadata": {},
     "output_type": "execute_result"
    }
   ],
   "source": [
    "in_channels=1\n",
    "n_classes=2\n",
    "depth=5\n",
    "wf=6 \n",
    "padding=True\n",
    "batch_norm=False\n",
    "up_mode='upconv'\n",
    "\n",
    "\"\"\"\n",
    "Args:\n",
    "    in_channels (int): number of input channels\n",
    "    n_classes (int): number of output channels\n",
    "    depth (int): depth of the network\n",
    "    wf (int): number of filters in the first layer is 2**wf\n",
    "    padding (bool): if True, apply padding such that the input shape\n",
    "                    is the same as the output.\n",
    "                    This may introduce artifacts\n",
    "    batch_norm (bool): Use BatchNorm after layers with an\n",
    "                       activation function\n",
    "    up_mode (str): one of 'upconv' or 'upsample'.\n",
    "                   'upconv' will use transposed convolutions for\n",
    "                   learned upsampling.\n",
    "                   'upsample' will use bilinear upsampling.\n",
    "\"\"\"\n"
   ]
  },
  {
   "cell_type": "markdown",
   "metadata": {},
   "source": [
    "### 5.2 Checkpoint Reload"
   ]
  },
  {
   "cell_type": "code",
   "execution_count": 7,
   "metadata": {},
   "outputs": [
    {
     "name": "stdout",
     "output_type": "stream",
     "text": [
      "best_epoch: 3\n",
      "min_val_loss: 0.000623614717467576\n"
     ]
    }
   ],
   "source": [
    "checkpoint = torch.load(model_path)\n",
    "\n",
    "model = UNet(in_channels=in_channels, \n",
    "            n_classes=n_classes, \n",
    "            depth=depth, \n",
    "            wf=wf, \n",
    "            padding=padding, \n",
    "            batch_norm=batch_norm, \n",
    "            up_mode=up_mode).to(device)\n",
    "model.load_state_dict(checkpoint['model_state_dict'])\n",
    "\n",
    "optim = torch.optim.Adam(model.parameters())\n",
    "optim.load_state_dict(checkpoint['optim_state_dict'])\n",
    "\n",
    "best_epoch = checkpoint['epoch']\n",
    "loss = checkpoint['loss']\n",
    "\n",
    "print('best_epoch:', best_epoch)\n",
    "print('min_val_loss:', loss)"
   ]
  },
  {
   "cell_type": "markdown",
   "metadata": {},
   "source": [
    "### 5.3 Loss function"
   ]
  },
  {
   "cell_type": "code",
   "execution_count": 8,
   "metadata": {},
   "outputs": [],
   "source": [
    "loss_func = 'focal_loss'\n",
    "gamma = 0\n",
    "alpha = 0.75"
   ]
  },
  {
   "cell_type": "markdown",
   "metadata": {},
   "source": [
    "## 6. Model Training and Evaluation"
   ]
  },
  {
   "cell_type": "code",
   "execution_count": null,
   "metadata": {},
   "outputs": [
    {
     "name": "stdout",
     "output_type": "stream",
     "text": [
      "start running at:  Mon Jul 13 22:22:33 2020\n",
      "epoch: 1\n",
      "start at:  Mon Jul 13 22:22:33 2020\n"
     ]
    }
   ],
   "source": [
    "epochs = 16 - best_epoch\n",
    "pad = 0\n",
    "batch_size = 64\n",
    "\n",
    "stats = oper.run_model(\n",
    "            device = device,\n",
    "            train_dataset = train_dataset, \n",
    "            val_dataset = val_dataset,\n",
    "            model = model,\n",
    "            optim = optim, \n",
    "            loss_func=loss_func,\n",
    "            gamma = gamma, \n",
    "            alpha = alpha,\n",
    "            epochs = epochs,\n",
    "            pad = pad,\n",
    "            batch_size = batch_size,\n",
    "            save_path = save_path)"
   ]
  },
  {
   "cell_type": "markdown",
   "metadata": {},
   "source": [
    "## 7. Statistics"
   ]
  },
  {
   "cell_type": "code",
   "execution_count": null,
   "metadata": {},
   "outputs": [],
   "source": [
    "print_data(\n",
    "    epochs = epochs, \n",
    "    stats = stats, \n",
    "    stats_path = stats_path)"
   ]
  }
 ],
 "metadata": {
  "kernelspec": {
   "display_name": "Python [conda env:2dunet]",
   "language": "python",
   "name": "conda-env-2dunet-py"
  },
  "language_info": {
   "codemirror_mode": {
    "name": "ipython",
    "version": 3
   },
   "file_extension": ".py",
   "mimetype": "text/x-python",
   "name": "python",
   "nbconvert_exporter": "python",
   "pygments_lexer": "ipython3",
   "version": "3.7.7"
  }
 },
 "nbformat": 4,
 "nbformat_minor": 4
}
