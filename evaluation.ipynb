{
 "cells": [
  {
   "cell_type": "markdown",
   "metadata": {},
   "source": [
    "## Path Settings"
   ]
  },
  {
   "cell_type": "code",
   "execution_count": 1,
   "metadata": {},
   "outputs": [],
   "source": [
    "pred_dir = r'/home/yutongx/3DUNet/final_results/checkpoint_4/'\n",
    "gt_dir = r'/home/yxy/disk/data/RibFrac/labels/val'"
   ]
  },
  {
   "cell_type": "markdown",
   "metadata": {},
   "source": [
    "## Load `.nii.gz`"
   ]
  },
  {
   "cell_type": "code",
   "execution_count": 2,
   "metadata": {},
   "outputs": [],
   "source": [
    "import os\n",
    "import nibabel as nib\n",
    "import numpy as np\n",
    "\n",
    "class NiiDataSet:\n",
    "    \"\"\"\n",
    "    A dataloder reading all .nii files under one directory.\n",
    "    Parameters\n",
    "    ----------\n",
    "    root_dir : str\n",
    "        The directory where all .nii files reside.\n",
    "    \"\"\"\n",
    "    def __init__(self, root_dir):\n",
    "        self.root_dir = root_dir\n",
    "        self.file_list = sorted([os.path.join(root_dir, x)\n",
    "            for x in os.listdir(root_dir) if x.endswith(\".nii.gz\")])\n",
    "\n",
    "    def __len__(self):\n",
    "        return len(self.file_list)\n",
    "\n",
    "    def __getitem__(self, idx):\n",
    "        array = nib.load(self.file_list[idx]).get_fdata()\n",
    "\n",
    "        return array"
   ]
  },
  {
   "cell_type": "markdown",
   "metadata": {},
   "source": [
    "## Evaluation "
   ]
  },
  {
   "cell_type": "code",
   "execution_count": 3,
   "metadata": {},
   "outputs": [],
   "source": [
    "import os\n",
    "\n",
    "import numpy as np\n",
    "import pandas as pd\n",
    "from matplotlib import pyplot as plt\n",
    "from skimage.measure import label, regionprops\n",
    "from sklearn.metrics import auc\n",
    "from tqdm import tqdm\n",
    "\n",
    "\n",
    "__all__ = [\"froc\", \"plot_froc\", \"evaluate\"]\n",
    "\n",
    "\n",
    "def _compile_pred_metrics(iou_matrix, inter_matrix, pred, pred_label):\n",
    "    \"\"\"\n",
    "    Compile prediction metrics into a Pandas DataFrame\n",
    "    Parameters\n",
    "    ----------\n",
    "    iou_matrix : numpy.ndarray\n",
    "        IoU array with shape of (n_pred, n_gt).\n",
    "    inter_matrix : numpy.ndarray\n",
    "        Intersection array with shape of (n_pred, n_gt).\n",
    "    pred : numpy.ndarray\n",
    "        A numpy array of probability prediction for each voxel.\n",
    "    pred_label : numpy.ndarray\n",
    "        A numpy array containing n GTs labelled from 1 to n.\n",
    "    Returns\n",
    "    -------\n",
    "    pred_metrics : pandas.DataFrame\n",
    "        A dataframe of prediction metrics.\n",
    "    \"\"\"\n",
    "    # meanings of each column:\n",
    "    # pred_label --  The index of prediction\n",
    "    # max_iou -- The highest IoU this prediction has with any certain GT\n",
    "    # hit_label -- The GT label with which this prediction has the highest IoU\n",
    "    # intersect_vox -- Number of voxels contained in the intersection between\n",
    "    #     this prediction and its hit GT\n",
    "    # prob -- The confidence prediction of this prediction\n",
    "    # vol -- This prediction's volume in pixels\n",
    "    # z, y, x -- Coordinates of this prediction's centroid\n",
    "    # num_gt -- Total number of GT in this volume\n",
    "        \n",
    "    pred_metrics = pd.DataFrame(np.zeros((iou_matrix.shape[0], 9)),\n",
    "        columns=[\"pred_label\", \"max_iou\", \"hit_label\", \"intersect_vox\",\n",
    "        \"prob\", \"vol\", \"z\", \"y\", \"x\"]) \n",
    "    pred_metrics[\"pred_label\"] = np.arange(1, iou_matrix.shape[0] + 1)\n",
    "    if (iou_matrix.shape[1] == 0) or (iou_matrix.shape[0] == 0): \n",
    "        # Exception handling, which does not exists in origin evaluation code\n",
    "        pred_metrics = pd.DataFrame(np.zeros((iou_matrix.shape[0], 10)),\n",
    "            columns=[\"pred_label\", \"max_iou\", \"hit_label\", \"intersect_vox\",\n",
    "            \"prob\", \"vol\", \"z\", \"y\", \"x\", \"num_gt\"]) \n",
    "        return pred_metrics\n",
    "    pred_metrics[\"max_iou\"] = iou_matrix.max(axis=1)\n",
    "    pred_metrics[\"hit_label\"] = iou_matrix.argmax(axis=1) + 1\n",
    "    pred_metrics[\"intersect_vox\"] = np.choose(iou_matrix.argmax(axis=1),\n",
    "        inter_matrix.T)\n",
    "    # if max_iou == 0, this prediction doesn't hit any GT\n",
    "    pred_metrics[\"hit_label\"] = pred_metrics.apply(lambda x: x[\"hit_label\"]\n",
    "        if x[\"max_iou\"] > 0 else 0, axis=1)\n",
    "    region_props = regionprops(pred_label, pred)\n",
    "    pred_metrics[\"prob\"] = [prop.mean_intensity for prop in region_props]\n",
    "    pred_metrics[\"vol\"] = [prop.area for prop in region_props]\n",
    "    pred_metrics[[\"z\", \"y\", \"x\"]] = np.array([prop.centroid\n",
    "        for prop in region_props])\n",
    "    pred_metrics[\"num_gt\"] = iou_matrix.shape[1]\n",
    "\n",
    "    return pred_metrics\n",
    "\n",
    "\n",
    "def evaluate_single_prediction(pred, gt_label, threshold):\n",
    "    \"\"\"\n",
    "    Evaluate a single prediction.\n",
    "    Parameters\n",
    "    ----------\n",
    "    pred : numpy.ndarray\n",
    "        The numpy array of prediction.\n",
    "    gt_label : numpy.ndarray\n",
    "        The numpy array of ground-truth.\n",
    "    threshold : float\n",
    "        If a voxel's prediction probability is higher than threshold,\n",
    "        it is treated as a positive prediction\n",
    "    Returns\n",
    "    -------\n",
    "    pred_metrics : pandas.DataFrame\n",
    "        A dataframe of prediction metrics.\n",
    "    \"\"\"\n",
    "    assert pred.shape == gt_label.shape,\\\n",
    "        \"The prediction and ground-truth have different shapes. pred:\"\\\n",
    "        f\" {pred.shape} and gt: {gt_label.shape}.\"\n",
    "\n",
    "    gt_label = gt_label.astype(int)\n",
    "    gt_bin = gt_label > 0\n",
    "\n",
    "    # Label connected regions\n",
    "    pred_bin = pred > threshold\n",
    "    pred_label = label(pred_bin)\n",
    "    \n",
    "    num_gt = int(gt_label.max())\n",
    "    num_pred = int(pred_label.max())\n",
    "    \n",
    "    print('instance level--', 'number of groud truth: ', num_gt, 'number of prediction: ',num_pred)\n",
    "    \n",
    "    iou_matrix = np.zeros((num_gt, num_pred))\n",
    "    inter_matrix = np.zeros_like(iou_matrix)\n",
    "\n",
    "    intersection = np.logical_and(gt_bin, pred_bin)\n",
    "    union = label(np.logical_or(gt_bin, pred_bin))\n",
    "    \n",
    "    #print('label(intersection):', np.where(intersection!=0))\n",
    "    for region in regionprops(label(intersection)):\n",
    "        centroid = tuple([int(round(x)) for x in region.centroid])\n",
    "        gt_idx = gt_label[centroid[0], centroid[1], centroid[2]]\n",
    "        pred_idx = pred_label[centroid[0], centroid[1], centroid[2]]\n",
    "        union_idx = union[centroid[0], centroid[1], centroid[2]]\n",
    "        #print(gt_idx, pred_idx, union_idx)\n",
    "        if gt_idx == 0 or pred_idx == 0 or union_idx == 0:\n",
    "            continue\n",
    "        inter_area = region.area\n",
    "        union_area = (union == union_idx).sum()\n",
    "        #print(inter_area, union_area)\n",
    "        iou = inter_area / (union_area + 1e-8)\n",
    "        iou_matrix[gt_idx - 1, pred_idx - 1] = iou\n",
    "        inter_matrix[gt_idx - 1, pred_idx - 1] = inter_area\n",
    "\n",
    "    iou_matrix = iou_matrix.T\n",
    "    inter_matrix = inter_matrix.T\n",
    "        \n",
    "    pred_metrics = _compile_pred_metrics(iou_matrix, inter_matrix, pred,\n",
    "        pred_label)\n",
    "    #print(pred_metrics)\n",
    "    return pred_metrics\n",
    "\n",
    "\n",
    "def _froc_single_thresh(df_list, p_thresh, iou_thresh):\n",
    "    \"\"\"\n",
    "    Calculate the FROC for a single confidence threshold.\n",
    "    Parameters\n",
    "    ----------\n",
    "    df_list : list of pandas.DataFrame\n",
    "        List of Pandas DataFrame of prediction metrics.\n",
    "    p_thresh : float\n",
    "        The probability threshold of positive predictions.\n",
    "    iou_thresh : float\n",
    "        The IoU threshold of predictions being considered as \"hit\".\n",
    "    Returns\n",
    "    -------\n",
    "    fpr : float\n",
    "        False positive rate for this threshold.\n",
    "    recall : float\n",
    "        Recall rate for this threshold.\n",
    "    \"\"\"\n",
    "    EPS = 1e-8\n",
    "\n",
    "    total_gt = total_tp = total_fp = 0\n",
    "    for df in df_list:\n",
    "        if len(df) != 0:\n",
    "            gt_cnt = df[\"num_gt\"][0]\n",
    "            df = df[df[\"prob\"] >= p_thresh]\n",
    "            tp_cnt = len(df.loc[df[\"max_iou\"] > iou_thresh,\n",
    "                \"hit_label\"].unique())\n",
    "            fp_cnt = len(df) - len(df.loc[df[\"max_iou\"] > iou_thresh])\n",
    "\n",
    "            total_gt += gt_cnt\n",
    "            total_tp += tp_cnt\n",
    "            total_fp += fp_cnt\n",
    "\n",
    "    fpr = total_fp / (len(df_list) + EPS)\n",
    "    recall = total_tp / (total_gt + EPS)\n",
    "\n",
    "    return fpr, recall\n",
    "\n",
    "\n",
    "def froc(df_list, iou_thresh=0.1):\n",
    "    \"\"\"\n",
    "    Calculate the FROC curve.\n",
    "    Parameters\n",
    "    df_list : list of pandas.DataFrame\n",
    "        List of prediction metrics.\n",
    "    iou_thresh : float\n",
    "        The IoU threshold of predictions being considered as \"hit\".\n",
    "    Returns\n",
    "    -------\n",
    "    fpr : list of float\n",
    "        List of false positive rate for a range of threshold from 0 to 1.\n",
    "    recall : float\n",
    "        List of recall rate for a range of threshold from 0 to 1.\n",
    "    aufroc : float\n",
    "        Area under FROC curve. Range from 0 to 1.\n",
    "    \"\"\"\n",
    "    fpr_recall = [_froc_single_thresh(df_list, p_thresh, iou_thresh)\n",
    "        for p_thresh in np.arange(0, 1, 0.01)]\n",
    "    fpr = [x[0] for x in fpr_recall]\n",
    "    recall = [x[1] for x in fpr_recall]\n",
    "    aufroc = auc(fpr, recall) / max(fpr)\n",
    "\n",
    "    return fpr, recall, aufroc\n",
    "\n",
    "\n",
    "def plot_froc(fpr, recall, aufroc):\n",
    "    \"\"\"\n",
    "    Plot the FROC curve.\n",
    "    Parameters\n",
    "    ----------\n",
    "    fpr : list of float\n",
    "        List of false positive rates at different confidence thresholds.\n",
    "    recall : list of float\n",
    "        List of recall at different confidence thresholds.\n",
    "    \"\"\"\n",
    "    _, ax = plt.subplots()\n",
    "    ax.plot(fpr, recall)\n",
    "    ax.set_title(\"FROC\")\n",
    "    ax.legend([f\"AUFROC={aufroc:.4f}\"])\n",
    "    plt.show()\n",
    "\n",
    "\n",
    "def evaluate(pred_dir, gt_dir, threshold=0.5):\n",
    "    \"\"\"\n",
    "    Evaluate predictions against the ground-truth on a certain subset.\n",
    "    Parameters\n",
    "    ----------\n",
    "    pred_dir : str\n",
    "        The directory where all prediction .nii files exist.\n",
    "    subset : str, {\"train\", \"val\"}\n",
    "        Data subset for evaluation.\n",
    "    threshold : float\n",
    "        The probability threshold of a positive prediction.\n",
    "    Returns\n",
    "    -------\n",
    "    eval_results : list of pandas.DataFrame\n",
    "        Evaluation results for each prediction.\n",
    "    fpr : list of float\n",
    "        List of false positive rate for a range of threshold from 0 to 1.\n",
    "    recall : float\n",
    "        List of recall rate for a range of threshold from 0 to 1.\n",
    "    aufroc : float\n",
    "        Area under FROC curve. Range from 0 to 1.\n",
    "    \"\"\"\n",
    "    pred_iter = NiiDataSet(pred_dir)\n",
    "    gt_iter = NiiDataSet(gt_dir)\n",
    "\n",
    "    assert len(pred_iter) == len(gt_iter),\\\n",
    "        \"Unequal number of predictions and ground-truths.\"\n",
    "\n",
    "    eval_results = []\n",
    "    for i in tqdm(range(len(gt_iter))):\n",
    "        print('pixel level--', 'ground truth:', np.count_nonzero(gt_iter[i]),\n",
    "              'pred:', len(pred_iter[i][np.where(pred_iter[i]>threshold)]))\n",
    "        eval_results.append(evaluate_single_prediction(pred_iter[i],\n",
    "            gt_iter[i], threshold))\n",
    "    fpr, recall, aufroc = froc(eval_results)\n",
    "    plot_froc(fpr, recall, aufroc)\n",
    "\n",
    "    return eval_results, fpr, recall, aufroc\n",
    "\n",
    "\n",
    "#if __name__ == \"__main__\":\n",
    "#     import argparse\n",
    "\n",
    "\n",
    "#     parser = argparse.ArgumentParser()\n",
    "#     parser.add_argument(\"--pred_dir\", required=True)\n",
    "#     parser.add_argument(\"--gt_dir\", required=True)\n",
    "#     args = parser.parse_args()\n",
    "\n",
    "#     _, _, _, aufroc = evaluate(args.pred_dir, args.gt_dir)\n",
    "#     print(f\"Evaluation on {args.subset}: AUFROC={aufroc:.4f}\")"
   ]
  },
  {
   "cell_type": "code",
   "execution_count": 4,
   "metadata": {
    "scrolled": true
   },
   "outputs": [
    {
     "name": "stderr",
     "output_type": "stream",
     "text": [
      "\r",
      "  0%|          | 0/80 [00:00<?, ?it/s]"
     ]
    },
    {
     "name": "stdout",
     "output_type": "stream",
     "text": [
      "pixel level-- ground truth: 11466 pred: 0\n",
      "instance level-- number of groud truth:  4 number of prediction:  0\n"
     ]
    },
    {
     "name": "stderr",
     "output_type": "stream",
     "text": [
      "\r",
      "  1%|▏         | 1/80 [00:22<30:07, 22.88s/it]"
     ]
    },
    {
     "name": "stdout",
     "output_type": "stream",
     "text": [
      "pixel level-- ground truth: 26008 pred: 0\n",
      "instance level-- number of groud truth:  6 number of prediction:  0\n"
     ]
    },
    {
     "name": "stderr",
     "output_type": "stream",
     "text": [
      "\r",
      "  2%|▎         | 2/80 [00:44<29:20, 22.58s/it]"
     ]
    },
    {
     "name": "stdout",
     "output_type": "stream",
     "text": [
      "pixel level-- ground truth: 8061 pred: 0\n",
      "instance level-- number of groud truth:  4 number of prediction:  0\n"
     ]
    },
    {
     "name": "stderr",
     "output_type": "stream",
     "text": [
      "\r",
      "  4%|▍         | 3/80 [01:09<29:58, 23.36s/it]"
     ]
    },
    {
     "name": "stdout",
     "output_type": "stream",
     "text": [
      "pixel level-- ground truth: 25356 pred: 0\n",
      "instance level-- number of groud truth:  8 number of prediction:  0\n"
     ]
    },
    {
     "name": "stderr",
     "output_type": "stream",
     "text": [
      "\r",
      "  5%|▌         | 4/80 [01:38<31:25, 24.81s/it]"
     ]
    },
    {
     "name": "stdout",
     "output_type": "stream",
     "text": [
      "pixel level-- ground truth: 17996 pred: 0\n",
      "instance level-- number of groud truth:  6 number of prediction:  0\n"
     ]
    },
    {
     "name": "stderr",
     "output_type": "stream",
     "text": [
      "\r",
      "  6%|▋         | 5/80 [02:03<31:07, 24.90s/it]"
     ]
    },
    {
     "name": "stdout",
     "output_type": "stream",
     "text": [
      "pixel level-- ground truth: 18735 pred: 0\n",
      "instance level-- number of groud truth:  3 number of prediction:  0\n"
     ]
    },
    {
     "name": "stderr",
     "output_type": "stream",
     "text": [
      "\r",
      "  8%|▊         | 6/80 [02:35<33:33, 27.21s/it]"
     ]
    },
    {
     "name": "stdout",
     "output_type": "stream",
     "text": [
      "pixel level-- ground truth: 57396 pred: 0\n",
      "instance level-- number of groud truth:  9 number of prediction:  0\n"
     ]
    },
    {
     "name": "stderr",
     "output_type": "stream",
     "text": [
      "\r",
      "  9%|▉         | 7/80 [03:00<32:20, 26.59s/it]"
     ]
    },
    {
     "name": "stdout",
     "output_type": "stream",
     "text": [
      "pixel level-- ground truth: 34033 pred: 204\n",
      "instance level-- number of groud truth:  8 number of prediction:  1\n"
     ]
    },
    {
     "name": "stderr",
     "output_type": "stream",
     "text": [
      "\r",
      " 10%|█         | 8/80 [03:27<31:53, 26.58s/it]"
     ]
    },
    {
     "name": "stdout",
     "output_type": "stream",
     "text": [
      "pixel level-- ground truth: 25321 pred: 0\n",
      "instance level-- number of groud truth:  10 number of prediction:  0\n"
     ]
    },
    {
     "name": "stderr",
     "output_type": "stream",
     "text": [
      "\r",
      " 11%|█▏        | 9/80 [03:49<29:40, 25.07s/it]"
     ]
    },
    {
     "name": "stdout",
     "output_type": "stream",
     "text": [
      "pixel level-- ground truth: 2232 pred: 0\n",
      "instance level-- number of groud truth:  1 number of prediction:  0\n"
     ]
    },
    {
     "name": "stderr",
     "output_type": "stream",
     "text": [
      "\r",
      " 12%|█▎        | 10/80 [04:13<29:04, 24.92s/it]"
     ]
    },
    {
     "name": "stdout",
     "output_type": "stream",
     "text": [
      "pixel level-- ground truth: 17471 pred: 0\n",
      "instance level-- number of groud truth:  5 number of prediction:  0\n"
     ]
    },
    {
     "name": "stderr",
     "output_type": "stream",
     "text": [
      "\r",
      " 14%|█▍        | 11/80 [04:39<28:55, 25.15s/it]"
     ]
    },
    {
     "name": "stdout",
     "output_type": "stream",
     "text": [
      "pixel level-- ground truth: 11572 pred: 0\n",
      "instance level-- number of groud truth:  6 number of prediction:  0\n"
     ]
    },
    {
     "name": "stderr",
     "output_type": "stream",
     "text": [
      "\r",
      " 15%|█▌        | 12/80 [04:58<26:37, 23.49s/it]"
     ]
    },
    {
     "name": "stdout",
     "output_type": "stream",
     "text": [
      "pixel level-- ground truth: 133896 pred: 0\n",
      "instance level-- number of groud truth:  16 number of prediction:  0\n"
     ]
    },
    {
     "name": "stderr",
     "output_type": "stream",
     "text": [
      "\r",
      " 16%|█▋        | 13/80 [05:24<26:52, 24.07s/it]"
     ]
    },
    {
     "name": "stdout",
     "output_type": "stream",
     "text": [
      "pixel level-- ground truth: 5767 pred: 0\n",
      "instance level-- number of groud truth:  4 number of prediction:  0\n"
     ]
    },
    {
     "name": "stderr",
     "output_type": "stream",
     "text": [
      "\r",
      " 18%|█▊        | 14/80 [05:46<25:48, 23.46s/it]"
     ]
    },
    {
     "name": "stdout",
     "output_type": "stream",
     "text": [
      "pixel level-- ground truth: 0 pred: 0\n",
      "instance level-- number of groud truth:  0 number of prediction:  0\n"
     ]
    },
    {
     "name": "stderr",
     "output_type": "stream",
     "text": [
      "\r",
      " 19%|█▉        | 15/80 [05:58<21:44, 20.07s/it]"
     ]
    },
    {
     "name": "stdout",
     "output_type": "stream",
     "text": [
      "pixel level-- ground truth: 27611 pred: 1460\n",
      "instance level-- number of groud truth:  13 number of prediction:  1\n"
     ]
    },
    {
     "name": "stderr",
     "output_type": "stream",
     "text": [
      "\r",
      " 20%|██        | 16/80 [06:20<21:58, 20.60s/it]"
     ]
    },
    {
     "name": "stdout",
     "output_type": "stream",
     "text": [
      "pixel level-- ground truth: 66921 pred: 780\n",
      "instance level-- number of groud truth:  10 number of prediction:  2\n"
     ]
    },
    {
     "name": "stderr",
     "output_type": "stream",
     "text": [
      "\r",
      " 21%|██▏       | 17/80 [06:47<23:41, 22.56s/it]"
     ]
    },
    {
     "name": "stdout",
     "output_type": "stream",
     "text": [
      "pixel level-- ground truth: 19206 pred: 0\n",
      "instance level-- number of groud truth:  7 number of prediction:  0\n"
     ]
    },
    {
     "name": "stderr",
     "output_type": "stream",
     "text": [
      "\r",
      " 22%|██▎       | 18/80 [07:15<24:57, 24.15s/it]"
     ]
    },
    {
     "name": "stdout",
     "output_type": "stream",
     "text": [
      "pixel level-- ground truth: 0 pred: 0\n",
      "instance level-- number of groud truth:  0 number of prediction:  0\n"
     ]
    },
    {
     "name": "stderr",
     "output_type": "stream",
     "text": [
      "\r",
      " 24%|██▍       | 19/80 [07:27<20:48, 20.47s/it]"
     ]
    },
    {
     "name": "stdout",
     "output_type": "stream",
     "text": [
      "pixel level-- ground truth: 6085 pred: 0\n",
      "instance level-- number of groud truth:  4 number of prediction:  0\n"
     ]
    },
    {
     "name": "stderr",
     "output_type": "stream",
     "text": [
      "\r",
      " 25%|██▌       | 20/80 [07:53<22:12, 22.20s/it]"
     ]
    },
    {
     "name": "stdout",
     "output_type": "stream",
     "text": [
      "pixel level-- ground truth: 24915 pred: 0\n",
      "instance level-- number of groud truth:  9 number of prediction:  0\n"
     ]
    },
    {
     "name": "stderr",
     "output_type": "stream",
     "text": [
      "\r",
      " 26%|██▋       | 21/80 [08:17<22:19, 22.70s/it]"
     ]
    },
    {
     "name": "stdout",
     "output_type": "stream",
     "text": [
      "pixel level-- ground truth: 0 pred: 0\n",
      "instance level-- number of groud truth:  0 number of prediction:  0\n"
     ]
    },
    {
     "name": "stderr",
     "output_type": "stream",
     "text": [
      "\r",
      " 28%|██▊       | 22/80 [08:31<19:27, 20.12s/it]"
     ]
    },
    {
     "name": "stdout",
     "output_type": "stream",
     "text": [
      "pixel level-- ground truth: 21446 pred: 0\n",
      "instance level-- number of groud truth:  6 number of prediction:  0\n"
     ]
    },
    {
     "name": "stderr",
     "output_type": "stream",
     "text": [
      "\r",
      " 29%|██▉       | 23/80 [09:00<21:29, 22.63s/it]"
     ]
    },
    {
     "name": "stdout",
     "output_type": "stream",
     "text": [
      "pixel level-- ground truth: 15664 pred: 0\n",
      "instance level-- number of groud truth:  8 number of prediction:  0\n"
     ]
    },
    {
     "name": "stderr",
     "output_type": "stream",
     "text": [
      "\r",
      " 30%|███       | 24/80 [09:23<21:27, 22.99s/it]"
     ]
    },
    {
     "name": "stdout",
     "output_type": "stream",
     "text": [
      "pixel level-- ground truth: 176380 pred: 0\n",
      "instance level-- number of groud truth:  19 number of prediction:  0\n"
     ]
    },
    {
     "name": "stderr",
     "output_type": "stream",
     "text": [
      "\r",
      " 31%|███▏      | 25/80 [09:47<21:20, 23.27s/it]"
     ]
    },
    {
     "name": "stdout",
     "output_type": "stream",
     "text": [
      "pixel level-- ground truth: 0 pred: 0\n",
      "instance level-- number of groud truth:  0 number of prediction:  0\n"
     ]
    },
    {
     "name": "stderr",
     "output_type": "stream",
     "text": [
      "\r",
      " 32%|███▎      | 26/80 [10:03<19:00, 21.12s/it]"
     ]
    },
    {
     "name": "stdout",
     "output_type": "stream",
     "text": [
      "pixel level-- ground truth: 106664 pred: 0\n",
      "instance level-- number of groud truth:  14 number of prediction:  0\n"
     ]
    },
    {
     "name": "stderr",
     "output_type": "stream",
     "text": [
      "\r",
      " 34%|███▍      | 27/80 [10:32<20:32, 23.26s/it]"
     ]
    },
    {
     "name": "stdout",
     "output_type": "stream",
     "text": [
      "pixel level-- ground truth: 0 pred: 0\n",
      "instance level-- number of groud truth:  0 number of prediction:  0\n"
     ]
    },
    {
     "name": "stderr",
     "output_type": "stream",
     "text": [
      "\r",
      " 35%|███▌      | 28/80 [10:40<16:11, 18.68s/it]"
     ]
    },
    {
     "name": "stdout",
     "output_type": "stream",
     "text": [
      "pixel level-- ground truth: 16944 pred: 0\n",
      "instance level-- number of groud truth:  3 number of prediction:  0\n"
     ]
    },
    {
     "name": "stderr",
     "output_type": "stream",
     "text": [
      "\r",
      " 36%|███▋      | 29/80 [11:10<18:52, 22.20s/it]"
     ]
    },
    {
     "name": "stdout",
     "output_type": "stream",
     "text": [
      "pixel level-- ground truth: 2997 pred: 1616\n",
      "instance level-- number of groud truth:  1 number of prediction:  1\n"
     ]
    },
    {
     "name": "stderr",
     "output_type": "stream",
     "text": [
      "\r",
      " 38%|███▊      | 30/80 [11:34<19:02, 22.85s/it]"
     ]
    },
    {
     "name": "stdout",
     "output_type": "stream",
     "text": [
      "pixel level-- ground truth: 15375 pred: 0\n",
      "instance level-- number of groud truth:  4 number of prediction:  0\n"
     ]
    },
    {
     "name": "stderr",
     "output_type": "stream",
     "text": [
      "\r",
      " 39%|███▉      | 31/80 [11:59<19:00, 23.27s/it]"
     ]
    },
    {
     "name": "stdout",
     "output_type": "stream",
     "text": [
      "pixel level-- ground truth: 0 pred: 0\n",
      "instance level-- number of groud truth:  0 number of prediction:  0\n"
     ]
    },
    {
     "name": "stderr",
     "output_type": "stream",
     "text": [
      "\r",
      " 40%|████      | 32/80 [12:04<14:18, 17.89s/it]"
     ]
    },
    {
     "name": "stdout",
     "output_type": "stream",
     "text": [
      "pixel level-- ground truth: 0 pred: 0\n",
      "instance level-- number of groud truth:  0 number of prediction:  0\n"
     ]
    },
    {
     "name": "stderr",
     "output_type": "stream",
     "text": [
      "\r",
      " 41%|████▏     | 33/80 [12:21<13:50, 17.68s/it]"
     ]
    },
    {
     "name": "stdout",
     "output_type": "stream",
     "text": [
      "pixel level-- ground truth: 0 pred: 0\n",
      "instance level-- number of groud truth:  0 number of prediction:  0\n"
     ]
    },
    {
     "name": "stderr",
     "output_type": "stream",
     "text": [
      "\r",
      " 42%|████▎     | 34/80 [12:35<12:43, 16.60s/it]"
     ]
    },
    {
     "name": "stdout",
     "output_type": "stream",
     "text": [
      "pixel level-- ground truth: 31229 pred: 0\n",
      "instance level-- number of groud truth:  7 number of prediction:  0\n"
     ]
    },
    {
     "name": "stderr",
     "output_type": "stream",
     "text": [
      "\r",
      " 44%|████▍     | 35/80 [13:05<15:17, 20.40s/it]"
     ]
    },
    {
     "name": "stdout",
     "output_type": "stream",
     "text": [
      "pixel level-- ground truth: 0 pred: 0\n",
      "instance level-- number of groud truth:  0 number of prediction:  0\n"
     ]
    },
    {
     "name": "stderr",
     "output_type": "stream",
     "text": [
      "\r",
      " 45%|████▌     | 36/80 [13:28<15:32, 21.19s/it]"
     ]
    },
    {
     "name": "stdout",
     "output_type": "stream",
     "text": [
      "pixel level-- ground truth: 28054 pred: 0\n",
      "instance level-- number of groud truth:  6 number of prediction:  0\n"
     ]
    },
    {
     "name": "stderr",
     "output_type": "stream",
     "text": [
      "\r",
      " 46%|████▋     | 37/80 [13:54<16:20, 22.80s/it]"
     ]
    },
    {
     "name": "stdout",
     "output_type": "stream",
     "text": [
      "pixel level-- ground truth: 43746 pred: 0\n",
      "instance level-- number of groud truth:  12 number of prediction:  0\n"
     ]
    },
    {
     "name": "stderr",
     "output_type": "stream",
     "text": [
      "\r",
      " 48%|████▊     | 38/80 [14:19<16:22, 23.38s/it]"
     ]
    },
    {
     "name": "stdout",
     "output_type": "stream",
     "text": [
      "pixel level-- ground truth: 73231 pred: 20096\n",
      "instance level-- number of groud truth:  2 number of prediction:  5\n"
     ]
    },
    {
     "name": "stderr",
     "output_type": "stream",
     "text": [
      "\r",
      " 49%|████▉     | 39/80 [14:42<15:57, 23.37s/it]"
     ]
    },
    {
     "name": "stdout",
     "output_type": "stream",
     "text": [
      "pixel level-- ground truth: 95259 pred: 4812\n",
      "instance level-- number of groud truth:  6 number of prediction:  3\n"
     ]
    },
    {
     "name": "stderr",
     "output_type": "stream",
     "text": [
      "\r",
      " 50%|█████     | 40/80 [15:11<16:38, 24.95s/it]"
     ]
    },
    {
     "name": "stdout",
     "output_type": "stream",
     "text": [
      "pixel level-- ground truth: 0 pred: 0\n",
      "instance level-- number of groud truth:  0 number of prediction:  0\n"
     ]
    },
    {
     "name": "stderr",
     "output_type": "stream",
     "text": [
      "\r",
      " 51%|█████▏    | 41/80 [15:18<12:41, 19.53s/it]"
     ]
    },
    {
     "name": "stdout",
     "output_type": "stream",
     "text": [
      "pixel level-- ground truth: 0 pred: 0\n",
      "instance level-- number of groud truth:  0 number of prediction:  0\n"
     ]
    },
    {
     "name": "stderr",
     "output_type": "stream",
     "text": [
      "\r",
      " 52%|█████▎    | 42/80 [15:20<09:06, 14.37s/it]"
     ]
    },
    {
     "name": "stdout",
     "output_type": "stream",
     "text": [
      "pixel level-- ground truth: 122773 pred: 4076\n",
      "instance level-- number of groud truth:  10 number of prediction:  11\n"
     ]
    },
    {
     "name": "stderr",
     "output_type": "stream",
     "text": [
      "\r",
      " 54%|█████▍    | 43/80 [15:40<09:58, 16.18s/it]"
     ]
    },
    {
     "name": "stdout",
     "output_type": "stream",
     "text": [
      "pixel level-- ground truth: 7765 pred: 4748\n",
      "instance level-- number of groud truth:  5 number of prediction:  4\n"
     ]
    },
    {
     "name": "stderr",
     "output_type": "stream",
     "text": [
      "\r",
      " 55%|█████▌    | 44/80 [16:08<11:44, 19.56s/it]"
     ]
    },
    {
     "name": "stdout",
     "output_type": "stream",
     "text": [
      "pixel level-- ground truth: 39085 pred: 0\n",
      "instance level-- number of groud truth:  7 number of prediction:  0\n"
     ]
    },
    {
     "name": "stderr",
     "output_type": "stream",
     "text": [
      "\r",
      " 56%|█████▋    | 45/80 [16:26<11:11, 19.18s/it]"
     ]
    },
    {
     "name": "stdout",
     "output_type": "stream",
     "text": [
      "pixel level-- ground truth: 48035 pred: 0\n",
      "instance level-- number of groud truth:  6 number of prediction:  0\n"
     ]
    },
    {
     "name": "stderr",
     "output_type": "stream",
     "text": [
      "\r",
      " 57%|█████▊    | 46/80 [16:51<11:53, 20.99s/it]"
     ]
    },
    {
     "name": "stdout",
     "output_type": "stream",
     "text": [
      "pixel level-- ground truth: 21969 pred: 500\n",
      "instance level-- number of groud truth:  7 number of prediction:  1\n"
     ]
    },
    {
     "name": "stderr",
     "output_type": "stream",
     "text": [
      "\r",
      " 59%|█████▉    | 47/80 [17:23<13:20, 24.27s/it]"
     ]
    },
    {
     "name": "stdout",
     "output_type": "stream",
     "text": [
      "pixel level-- ground truth: 973 pred: 0\n",
      "instance level-- number of groud truth:  1 number of prediction:  0\n"
     ]
    },
    {
     "name": "stderr",
     "output_type": "stream",
     "text": [
      "\r",
      " 60%|██████    | 48/80 [17:43<12:17, 23.05s/it]"
     ]
    },
    {
     "name": "stdout",
     "output_type": "stream",
     "text": [
      "pixel level-- ground truth: 16686 pred: 1084\n",
      "instance level-- number of groud truth:  6 number of prediction:  2\n"
     ]
    },
    {
     "name": "stderr",
     "output_type": "stream",
     "text": [
      "\r",
      " 61%|██████▏   | 49/80 [18:13<12:54, 24.97s/it]"
     ]
    },
    {
     "name": "stdout",
     "output_type": "stream",
     "text": [
      "pixel level-- ground truth: 0 pred: 0\n",
      "instance level-- number of groud truth:  0 number of prediction:  0\n"
     ]
    },
    {
     "name": "stderr",
     "output_type": "stream",
     "text": [
      "\r",
      " 62%|██████▎   | 50/80 [18:32<11:38, 23.30s/it]"
     ]
    },
    {
     "name": "stdout",
     "output_type": "stream",
     "text": [
      "pixel level-- ground truth: 0 pred: 0\n",
      "instance level-- number of groud truth:  0 number of prediction:  0\n"
     ]
    },
    {
     "name": "stderr",
     "output_type": "stream",
     "text": [
      "\r",
      " 64%|██████▍   | 51/80 [18:38<08:43, 18.06s/it]"
     ]
    },
    {
     "name": "stdout",
     "output_type": "stream",
     "text": [
      "pixel level-- ground truth: 0 pred: 0\n",
      "instance level-- number of groud truth:  0 number of prediction:  0\n"
     ]
    },
    {
     "name": "stderr",
     "output_type": "stream",
     "text": [
      "\r",
      " 65%|██████▌   | 52/80 [18:53<07:56, 17.03s/it]"
     ]
    },
    {
     "name": "stdout",
     "output_type": "stream",
     "text": [
      "pixel level-- ground truth: 14178 pred: 0\n",
      "instance level-- number of groud truth:  5 number of prediction:  0\n"
     ]
    },
    {
     "name": "stderr",
     "output_type": "stream",
     "text": [
      "\r",
      " 66%|██████▋   | 53/80 [19:16<08:33, 19.00s/it]"
     ]
    },
    {
     "name": "stdout",
     "output_type": "stream",
     "text": [
      "pixel level-- ground truth: 0 pred: 0\n",
      "instance level-- number of groud truth:  0 number of prediction:  0\n"
     ]
    },
    {
     "name": "stderr",
     "output_type": "stream",
     "text": [
      "\r",
      " 68%|██████▊   | 54/80 [19:21<06:19, 14.61s/it]"
     ]
    },
    {
     "name": "stdout",
     "output_type": "stream",
     "text": [
      "pixel level-- ground truth: 0 pred: 0\n",
      "instance level-- number of groud truth:  0 number of prediction:  0\n"
     ]
    },
    {
     "name": "stderr",
     "output_type": "stream",
     "text": [
      "\r",
      " 69%|██████▉   | 55/80 [19:33<05:50, 14.03s/it]"
     ]
    },
    {
     "name": "stdout",
     "output_type": "stream",
     "text": [
      "pixel level-- ground truth: 10096 pred: 0\n",
      "instance level-- number of groud truth:  5 number of prediction:  0\n"
     ]
    },
    {
     "name": "stderr",
     "output_type": "stream",
     "text": [
      "\r",
      " 70%|███████   | 56/80 [20:00<07:03, 17.65s/it]"
     ]
    },
    {
     "name": "stdout",
     "output_type": "stream",
     "text": [
      "pixel level-- ground truth: 12161 pred: 0\n",
      "instance level-- number of groud truth:  7 number of prediction:  0\n"
     ]
    },
    {
     "name": "stderr",
     "output_type": "stream",
     "text": [
      "\r",
      " 71%|███████▏  | 57/80 [20:22<07:17, 19.01s/it]"
     ]
    },
    {
     "name": "stdout",
     "output_type": "stream",
     "text": [
      "pixel level-- ground truth: 16591 pred: 0\n",
      "instance level-- number of groud truth:  6 number of prediction:  0\n"
     ]
    },
    {
     "name": "stderr",
     "output_type": "stream",
     "text": [
      "\r",
      " 72%|███████▎  | 58/80 [21:10<10:08, 27.68s/it]"
     ]
    },
    {
     "name": "stdout",
     "output_type": "stream",
     "text": [
      "pixel level-- ground truth: 30836 pred: 0\n",
      "instance level-- number of groud truth:  5 number of prediction:  0\n"
     ]
    },
    {
     "name": "stderr",
     "output_type": "stream",
     "text": [
      "\r",
      " 74%|███████▍  | 59/80 [21:33<09:11, 26.25s/it]"
     ]
    },
    {
     "name": "stdout",
     "output_type": "stream",
     "text": [
      "pixel level-- ground truth: 66624 pred: 0\n",
      "instance level-- number of groud truth:  18 number of prediction:  0\n"
     ]
    },
    {
     "name": "stderr",
     "output_type": "stream",
     "text": [
      "\r",
      " 75%|███████▌  | 60/80 [22:00<08:51, 26.55s/it]"
     ]
    },
    {
     "name": "stdout",
     "output_type": "stream",
     "text": [
      "pixel level-- ground truth: 17914 pred: 0\n",
      "instance level-- number of groud truth:  5 number of prediction:  0\n"
     ]
    },
    {
     "name": "stderr",
     "output_type": "stream",
     "text": [
      "\r",
      " 76%|███████▋  | 61/80 [22:27<08:29, 26.79s/it]"
     ]
    },
    {
     "name": "stdout",
     "output_type": "stream",
     "text": [
      "pixel level-- ground truth: 20200 pred: 4620\n",
      "instance level-- number of groud truth:  6 number of prediction:  3\n"
     ]
    },
    {
     "name": "stderr",
     "output_type": "stream",
     "text": [
      "\r",
      " 78%|███████▊  | 62/80 [22:55<08:07, 27.08s/it]"
     ]
    },
    {
     "name": "stdout",
     "output_type": "stream",
     "text": [
      "pixel level-- ground truth: 41360 pred: 0\n",
      "instance level-- number of groud truth:  8 number of prediction:  0\n"
     ]
    },
    {
     "name": "stderr",
     "output_type": "stream",
     "text": [
      "\r",
      " 79%|███████▉  | 63/80 [23:20<07:30, 26.51s/it]"
     ]
    },
    {
     "name": "stdout",
     "output_type": "stream",
     "text": [
      "pixel level-- ground truth: 59273 pred: 0\n",
      "instance level-- number of groud truth:  11 number of prediction:  0\n"
     ]
    },
    {
     "name": "stderr",
     "output_type": "stream",
     "text": [
      "\r",
      " 80%|████████  | 64/80 [23:46<06:59, 26.22s/it]"
     ]
    },
    {
     "name": "stdout",
     "output_type": "stream",
     "text": [
      "pixel level-- ground truth: 0 pred: 0\n",
      "instance level-- number of groud truth:  0 number of prediction:  0\n"
     ]
    },
    {
     "name": "stderr",
     "output_type": "stream",
     "text": [
      "\r",
      " 81%|████████▏ | 65/80 [23:53<05:08, 20.54s/it]"
     ]
    },
    {
     "name": "stdout",
     "output_type": "stream",
     "text": [
      "pixel level-- ground truth: 135212 pred: 0\n",
      "instance level-- number of groud truth:  13 number of prediction:  0\n"
     ]
    },
    {
     "name": "stderr",
     "output_type": "stream",
     "text": [
      "\r",
      " 82%|████████▎ | 66/80 [24:22<05:21, 22.99s/it]"
     ]
    },
    {
     "name": "stdout",
     "output_type": "stream",
     "text": [
      "pixel level-- ground truth: 0 pred: 0\n",
      "instance level-- number of groud truth:  0 number of prediction:  0\n"
     ]
    },
    {
     "name": "stderr",
     "output_type": "stream",
     "text": [
      "\r",
      " 84%|████████▍ | 67/80 [24:25<03:41, 17.06s/it]"
     ]
    },
    {
     "name": "stdout",
     "output_type": "stream",
     "text": [
      "pixel level-- ground truth: 12594 pred: 8884\n",
      "instance level-- number of groud truth:  3 number of prediction:  3\n"
     ]
    },
    {
     "name": "stderr",
     "output_type": "stream",
     "text": [
      "\r",
      " 85%|████████▌ | 68/80 [24:47<03:43, 18.65s/it]"
     ]
    },
    {
     "name": "stdout",
     "output_type": "stream",
     "text": [
      "pixel level-- ground truth: 25443 pred: 0\n",
      "instance level-- number of groud truth:  8 number of prediction:  0\n"
     ]
    },
    {
     "name": "stderr",
     "output_type": "stream",
     "text": [
      "\r",
      " 86%|████████▋ | 69/80 [25:17<04:02, 22.05s/it]"
     ]
    },
    {
     "name": "stdout",
     "output_type": "stream",
     "text": [
      "pixel level-- ground truth: 0 pred: 0\n",
      "instance level-- number of groud truth:  0 number of prediction:  0\n"
     ]
    },
    {
     "name": "stderr",
     "output_type": "stream",
     "text": [
      "\r",
      " 88%|████████▊ | 70/80 [25:24<02:53, 17.39s/it]"
     ]
    },
    {
     "name": "stdout",
     "output_type": "stream",
     "text": [
      "pixel level-- ground truth: 0 pred: 0\n",
      "instance level-- number of groud truth:  0 number of prediction:  0\n"
     ]
    },
    {
     "name": "stderr",
     "output_type": "stream",
     "text": [
      "\r",
      " 89%|████████▉ | 71/80 [25:38<02:26, 16.32s/it]"
     ]
    },
    {
     "name": "stdout",
     "output_type": "stream",
     "text": [
      "pixel level-- ground truth: 29134 pred: 2800\n",
      "instance level-- number of groud truth:  6 number of prediction:  2\n"
     ]
    },
    {
     "name": "stderr",
     "output_type": "stream",
     "text": [
      "\r",
      " 90%|█████████ | 72/80 [26:09<02:46, 20.85s/it]"
     ]
    },
    {
     "name": "stdout",
     "output_type": "stream",
     "text": [
      "pixel level-- ground truth: 116481 pred: 18524\n",
      "instance level-- number of groud truth:  19 number of prediction:  5\n"
     ]
    },
    {
     "name": "stderr",
     "output_type": "stream",
     "text": [
      "\r",
      " 91%|█████████▏| 73/80 [26:34<02:34, 22.09s/it]"
     ]
    },
    {
     "name": "stdout",
     "output_type": "stream",
     "text": [
      "pixel level-- ground truth: 13833 pred: 0\n",
      "instance level-- number of groud truth:  12 number of prediction:  0\n"
     ]
    },
    {
     "name": "stderr",
     "output_type": "stream",
     "text": [
      "\r",
      " 92%|█████████▎| 74/80 [26:52<02:05, 20.94s/it]"
     ]
    },
    {
     "name": "stdout",
     "output_type": "stream",
     "text": [
      "pixel level-- ground truth: 32423 pred: 0\n",
      "instance level-- number of groud truth:  6 number of prediction:  0\n"
     ]
    },
    {
     "name": "stderr",
     "output_type": "stream",
     "text": [
      "\r",
      " 94%|█████████▍| 75/80 [27:15<01:47, 21.44s/it]"
     ]
    },
    {
     "name": "stdout",
     "output_type": "stream",
     "text": [
      "pixel level-- ground truth: 9594 pred: 144\n",
      "instance level-- number of groud truth:  3 number of prediction:  1\n"
     ]
    },
    {
     "name": "stderr",
     "output_type": "stream",
     "text": [
      "\r",
      " 95%|█████████▌| 76/80 [27:39<01:29, 22.38s/it]"
     ]
    },
    {
     "name": "stdout",
     "output_type": "stream",
     "text": [
      "pixel level-- ground truth: 32913 pred: 0\n",
      "instance level-- number of groud truth:  12 number of prediction:  0\n"
     ]
    },
    {
     "name": "stderr",
     "output_type": "stream",
     "text": [
      "\r",
      " 96%|█████████▋| 77/80 [27:54<01:00, 20.18s/it]"
     ]
    },
    {
     "name": "stdout",
     "output_type": "stream",
     "text": [
      "pixel level-- ground truth: 12690 pred: 0\n",
      "instance level-- number of groud truth:  5 number of prediction:  0\n"
     ]
    },
    {
     "name": "stderr",
     "output_type": "stream",
     "text": [
      "\r",
      " 98%|█████████▊| 78/80 [28:25<00:46, 23.32s/it]"
     ]
    },
    {
     "name": "stdout",
     "output_type": "stream",
     "text": [
      "pixel level-- ground truth: 29676 pred: 0\n",
      "instance level-- number of groud truth:  3 number of prediction:  0\n"
     ]
    },
    {
     "name": "stderr",
     "output_type": "stream",
     "text": [
      "\r",
      " 99%|█████████▉| 79/80 [28:53<00:24, 24.61s/it]"
     ]
    },
    {
     "name": "stdout",
     "output_type": "stream",
     "text": [
      "pixel level-- ground truth: 19056 pred: 0\n",
      "instance level-- number of groud truth:  6 number of prediction:  0\n"
     ]
    },
    {
     "name": "stderr",
     "output_type": "stream",
     "text": [
      "100%|██████████| 80/80 [29:26<00:00, 22.08s/it]\n"
     ]
    },
    {
     "data": {
      "image/png": "[encoded data removed]",
      "text/plain": [
       "<Figure size 432x288 with 1 Axes>"
      ]
     },
     "metadata": {
      "needs_background": "light"
     },
     "output_type": "display_data"
    },
    {
     "name": "stdout",
     "output_type": "stream",
     "text": [
      "Evaluation on /home/yutongx/3DUNet/final_results/checkpoint_4/: AUFROC=0.1006\n"
     ]
    }
   ],
   "source": [
    "_, fpr, recall, aufroc = evaluate(pred_dir, gt_dir)\n",
    "\n",
    "print(f\"Evaluation on {pred_dir}: AUFROC={aufroc:.4f}\")"
   ]
  },
  {
   "cell_type": "code",
   "execution_count": null,
   "metadata": {},
   "outputs": [],
   "source": []
  }
 ],
 "metadata": {
  "kernelspec": {
   "display_name": "Python [conda env:main]",
   "language": "python",
   "name": "conda-env-main-py"
  },
  "language_info": {
   "codemirror_mode": {
    "name": "ipython",
    "version": 3
   },
   "file_extension": ".py",
   "mimetype": "text/x-python",
   "name": "python",
   "nbconvert_exporter": "python",
   "pygments_lexer": "ipython3",
   "version": "3.7.7"
  }
 },
 "nbformat": 4,
 "nbformat_minor": 4
}
