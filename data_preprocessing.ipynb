{
 "cells": [
  {
   "cell_type": "code",
   "execution_count": 1,
   "metadata": {},
   "outputs": [],
   "source": [
    "import os\n",
    "import re\n",
    "\n",
    "import numpy as np\n",
    "import nibabel as nib\n",
    "from scipy.ndimage.interpolation import zoom\n",
    "import cv2\n",
    "import h5py"
   ]
  },
  {
   "cell_type": "code",
   "execution_count": 2,
   "metadata": {},
   "outputs": [],
   "source": [
    "data_root = '/home/yutongx/src_data/'\n",
    "image_root = os.path.join(data_root, 'images')\n",
    "label_root = os.path.join(data_root, 'labels')\n",
    "\n",
    "image_train_path = os.path.join(image_root, 'train')\n",
    "label_train_path = os.path.join(label_root, 'train')\n",
    "\n",
    "image_val_path = os.path.join(image_root, 'val')\n",
    "label_val_path = os.path.join(label_root, 'val')"
   ]
  },
  {
   "cell_type": "code",
   "execution_count": 3,
   "metadata": {},
   "outputs": [],
   "source": [
    "prep_root = '/home/yutongx/local_data/'\n",
    "\n",
    "prep_train_path = os.path.join(prep_root, 'train')\n",
    "prep_val_path = os.path.join(prep_root, 'val')"
   ]
  },
  {
   "cell_type": "code",
   "execution_count": 4,
   "metadata": {},
   "outputs": [],
   "source": [
    "def preprocessing(image_path, label_path, prep_path, order, low_th, window, gamma=None, median=False):\n",
    "    image_names = sorted(os.listdir(image_path))\n",
    "    label_names = sorted(os.listdir(label_path))\n",
    "\n",
    "    for img_name, lbl_name in zip(image_names, label_names):\n",
    "        img_raw = nib.load(os.path.join(image_path, img_name))\n",
    "        lbl_raw = nib.load(os.path.join(label_path, lbl_name))\n",
    "        img = img_raw.get_fdata()\n",
    "        lbl = lbl_raw.get_fdata()\n",
    "        img_shape = np.array(img.shape)\n",
    "        img_affine = img_raw.affine\n",
    "        #uniform spacing\n",
    "        img_zoomed = zoom(img, (img_raw.header).get_zooms(), order=order, mode='nearest')\n",
    "        #linear transformation & normalization\n",
    "        high_th = low_th + window\n",
    "        pmax = min(img_zoomed.max(), high_th)\n",
    "        img_th = np.where((img_zoomed >= low_th) & (img_zoomed <= high_th), \n",
    "                              (img_zoomed-low_th)/(pmax-low_th), 0.0)\n",
    "        img_th[img_zoomed < low_th] = 0.0\n",
    "        img_th[img_zoomed > high_th] = 1.0\n",
    "        #gamma transformation, optional, use value smaller than 1\n",
    "        if gamma is not None:\n",
    "            img_th = img_th**(gamma)\n",
    "        #median filter, optional\n",
    "        if median is True:\n",
    "            img_th = cv2.medianBlur(img_th, 3)\n",
    "        #resampling\n",
    "        img_th = np.moveaxis(img_th, -1, 0)#to d*h*w\n",
    "        lbl_th = np.moveaxis(lbl, -1, 0)#to d*h*w\n",
    "        img_scale = np.array([256,256,256]) / np.array(img_th.shape)\n",
    "        lbl_scale = np.array([256,256,256]) / np.array(lbl_th.shape)\n",
    "        img_resampled = (zoom(img_th, img_scale, order=0, mode='nearest')).astype(np.float32)\n",
    "        lbl_resampled = zoom(lbl_th, lbl_scale, order=0, mode='nearest').astype(np.uint8)\n",
    "        lbl_resampled = (np.where(lbl_resampled == 0, 0, 1)).astype(np.uint8)\n",
    "\n",
    "        file_name = ''.join((re.search(r'[0-9]+', img_name).group(),'.h5'))\n",
    "        file = h5py.File(os.path.join(prep_path, file_name),'w')\n",
    "        file.create_dataset('raw', data=img_resampled)\n",
    "        file.create_dataset('label', data=lbl_resampled)\n",
    "        file.create_dataset('ori_shape', data=img_shape)\n",
    "        file.create_dataset('ori_affine', data=img_affine)\n",
    "        file.close()"
   ]
  },
  {
   "cell_type": "code",
   "execution_count": null,
   "metadata": {},
   "outputs": [],
   "source": [
    "preprocessing(image_train_path, label_train_path, prep_train_path, order=3, low_th=100, window=2048)"
   ]
  },
  {
   "cell_type": "code",
   "execution_count": null,
   "metadata": {},
   "outputs": [],
   "source": [
    "preprocessing(image_val_path, label_val_path, prep_val_path, order=3, low_th=100, window=2048)"
   ]
  },
  {
   "cell_type": "code",
   "execution_count": null,
   "metadata": {},
   "outputs": [],
   "source": []
  }
 ],
 "metadata": {
  "kernelspec": {
   "display_name": "Python [conda env:main]",
   "language": "python",
   "name": "conda-env-main-py"
  },
  "language_info": {
   "codemirror_mode": {
    "name": "ipython",
    "version": 3
   },
   "file_extension": ".py",
   "mimetype": "text/x-python",
   "name": "python",
   "nbconvert_exporter": "python",
   "pygments_lexer": "ipython3",
   "version": "3.7.7"
  }
 },
 "nbformat": 4,
 "nbformat_minor": 2
}
