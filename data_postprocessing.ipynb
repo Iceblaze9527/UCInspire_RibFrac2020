{
 "cells": [
  {
   "cell_type": "code",
   "execution_count": 1,
   "metadata": {},
   "outputs": [],
   "source": [
    "import os\n",
    "\n",
    "import numpy as np\n",
    "import nibabel as nib\n",
    "from scipy.ndimage.interpolation import zoom\n",
    "import h5py"
   ]
  },
  {
   "cell_type": "code",
   "execution_count": 2,
   "metadata": {},
   "outputs": [],
   "source": [
    "gt_root = '/home/yutongx/src_data/preprocessed_3d_128_xyt/'\n",
    "pred_root = 'predictions/'\n",
    "post_root = 'final_results/'\n",
    "\n",
    "gt_path = os.path.join(gt_root, 'val')\n",
    "pred_path = os.path.join(pred_root, 'checkpoint_4')\n",
    "post_path = os.path.join(post_root, 'checkpoint_4')"
   ]
  },
  {
   "cell_type": "raw",
   "metadata": {},
   "source": [
    "def postprocessing_npy(gt_path, pred_path, post_path, order=0):\n",
    "    gt_names = sorted(os.listdir(gt_path))\n",
    "    pred_names = sorted(os.listdir(pred_path))\n",
    "\n",
    "    for gt_name, pred_name in zip(gt_names, pred_names):\n",
    "        file_gt = h5py.File(os.path.join(gt_path, gt_name),'r')\n",
    "        gt_shape = file_gt['ori_shape'][:]\n",
    "        file_gt.close()\n",
    "        \n",
    "        file_pred = h5py.File(os.path.join(pred_path, pred_name),'r')\n",
    "        pred = file_pred['predictions'][0]\n",
    "        file_pred.close()\n",
    "        \n",
    "        pred = np.moveaxis(pred, 0, -1)#to h*w*d\n",
    "        scale = np.array(gt_shape) / np.array(pred.shape)\n",
    "        pred_restored = (zoom(pred, scale, order=order, mode='nearest')).astype(np.float32)\n",
    "        \n",
    "        post_name = os.path.join(post_path, ''.join(pred_name[:3],'.npy'))\n",
    "        np.save(post_name, pred_restored)"
   ]
  },
  {
   "cell_type": "code",
   "execution_count": 3,
   "metadata": {},
   "outputs": [],
   "source": [
    "def postprocessing_nii(gt_path, pred_path, post_path, order=0):\n",
    "    gt_names = sorted(os.listdir(gt_path))\n",
    "    pred_names = sorted(os.listdir(pred_path))\n",
    "\n",
    "    for gt_name, pred_name in zip(gt_names, pred_names):\n",
    "        file_gt = h5py.File(os.path.join(gt_path, gt_name),'r')\n",
    "        gt_shape = file_gt['ori_shape'][:]\n",
    "        gt_affine = file_gt['ori_affine'][:]\n",
    "        file_gt.close()\n",
    "        \n",
    "        file_pred = h5py.File(os.path.join(pred_path, pred_name),'r')\n",
    "        pred = file_pred['predictions'][0]\n",
    "        file_pred.close()\n",
    "        \n",
    "        pred = np.moveaxis(pred, 0, -1)#to h*w*d\n",
    "        scale = np.array(gt_shape) / np.array(pred.shape)\n",
    "        pred_restored = (zoom(pred, scale, order=order, mode='nearest')).astype(np.float32)\n",
    "  \n",
    "        post_name = os.path.join(post_path, pred_name[:3] + '.nii.gz')\n",
    "        nib.save(nib.Nifti1Image(pred_restored, gt_affine), post_name)"
   ]
  },
  {
   "cell_type": "raw",
   "metadata": {},
   "source": [
    "postprocessing_npy(gt_path, pred_path, post_path, order=0)"
   ]
  },
  {
   "cell_type": "code",
   "execution_count": 4,
   "metadata": {},
   "outputs": [],
   "source": [
    "postprocessing_nii(gt_path, pred_path, post_path, order=0)"
   ]
  },
  {
   "cell_type": "code",
   "execution_count": null,
   "metadata": {},
   "outputs": [],
   "source": []
  }
 ],
 "metadata": {
  "kernelspec": {
   "display_name": "Python [conda env:main]",
   "language": "python",
   "name": "conda-env-main-py"
  },
  "language_info": {
   "codemirror_mode": {
    "name": "ipython",
    "version": 3
   },
   "file_extension": ".py",
   "mimetype": "text/x-python",
   "name": "python",
   "nbconvert_exporter": "python",
   "pygments_lexer": "ipython3",
   "version": "3.7.7"
  }
 },
 "nbformat": 4,
 "nbformat_minor": 2
}
