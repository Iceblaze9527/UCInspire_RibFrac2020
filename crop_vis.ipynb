{
 "cells": [
  {
   "cell_type": "code",
   "execution_count": 1,
   "metadata": {},
   "outputs": [],
   "source": [
    "import os\n",
    "import re\n",
    "\n",
    "import numpy as np\n",
    "import nibabel as nib"
   ]
  },
  {
   "cell_type": "code",
   "execution_count": 2,
   "metadata": {},
   "outputs": [],
   "source": [
    "img_path = '/home/yutongx/src_data/images/'\n",
    "bbox_path = '/home/yutongx/src_data/bbox/'\n",
    "save_path = '/home/yutongx/FeatureNet/masks/'\n",
    "\n",
    "resize = 64"
   ]
  },
  {
   "cell_type": "code",
   "execution_count": 6,
   "metadata": {},
   "outputs": [],
   "source": [
    "idx = lambda name: re.sub(r'\\D', '', name)\n",
    "get_names = lambda path: sorted([os.path.join(path, name) for name in os.listdir(path)], key=idx)\n",
    "\n",
    "def crop(image, bbox, length):\n",
    "    start = lambda center, length: int(np.floor(center - length/2))\n",
    "    end = lambda center, length: int(np.floor(center + length/2))\n",
    "\n",
    "    start_crop = lambda center, length: int(max(start(center, length), 0))\n",
    "    end_crop = lambda center, length, max_len: int(min(end(center, length), max_len))\n",
    "\n",
    "    zc, yc, xc, dz, dy, dx = bbox\n",
    "\n",
    "    st = {'zs': start_crop(zc, length),\n",
    "        'zt': end_crop(zc, length, image.shape[2]),\n",
    "        'ys': start_crop(yc, length),\n",
    "        'yt': end_crop(yc, length, image.shape[1]),\n",
    "        'xs': start_crop(xc, length),\n",
    "        'xt': end_crop(xc, length, image.shape[0])}\n",
    "    \n",
    "    return st\n",
    "\n",
    "def foo(img_names, bbox_names, label_name, resize, save_path):\n",
    "    bboxes_all = []\n",
    "    for bbox_name in bbox_names:\n",
    "        bboxes_src = np.load(bbox_name, allow_pickle=True)\n",
    "        bboxes_all.append(bboxes_src[label_name])\n",
    "    \n",
    "    for img_name, bboxes in zip(img_names, bboxes_all):\n",
    "        img = nib.load(img_name).get_fdata()#H*W*D\n",
    "        mask = np.zeros(img.shape).astype(np.uint8)\n",
    "        for index in range(bboxes.shape[0]):\n",
    "            bbox = bboxes[index]\n",
    "            st = crop(img, bbox, resize)\n",
    "            mask[st['xs']:st['xt'], st['ys']:st['yt'], st['zs']:st['zt']] = 2048\n",
    " \n",
    "        mask_name = ''.join((idx(img_name), '_', label_name, '.nii.gz'))\n",
    "        nib.save(nib.Nifti1Image(mask, affine=None), os.path.join(save_path, mask_name))"
   ]
  },
  {
   "cell_type": "code",
   "execution_count": 4,
   "metadata": {},
   "outputs": [],
   "source": [
    "img_train_names = get_names(os.path.join(img_path, 'train'))\n",
    "bbox_train_names = get_names(os.path.join(bbox_path, 'train'))\n",
    "\n",
    "img_val_names = get_names(os.path.join(img_path, 'val'))\n",
    "bbox_val_names = get_names(os.path.join(bbox_path, 'val'))\n",
    "\n",
    "save_train_path = os.path.join(save_path, 'train')\n",
    "save_val_path = os.path.join(save_path, 'val')"
   ]
  },
  {
   "cell_type": "code",
   "execution_count": null,
   "metadata": {},
   "outputs": [],
   "source": [
    "foo(img_train_names, bbox_train_names, 'gt_pos', resize, save_train_path)\n",
    "foo(img_train_names, bbox_train_names, 'rpn_pos', resize, save_train_path)\n",
    "foo(img_train_names, bbox_train_names, 'rpn_neg', resize, save_train_path)"
   ]
  },
  {
   "cell_type": "code",
   "execution_count": null,
   "metadata": {},
   "outputs": [],
   "source": [
    "foo(img_val_names, bbox_val_names, 'gt_pos', resize, save_val_path)\n",
    "foo(img_val_names, bbox_val_names, 'rpn_pos', resize, save_val_path)\n",
    "foo(img_val_names, bbox_val_names, 'rpn_neg', resize, save_val_path)"
   ]
  },
  {
   "cell_type": "code",
   "execution_count": null,
   "metadata": {},
   "outputs": [],
   "source": []
  }
 ],
 "metadata": {
  "kernelspec": {
   "display_name": "Python [conda env:main]",
   "language": "python",
   "name": "conda-env-main-py"
  },
  "language_info": {
   "codemirror_mode": {
    "name": "ipython",
    "version": 3
   },
   "file_extension": ".py",
   "mimetype": "text/x-python",
   "name": "python",
   "nbconvert_exporter": "python",
   "pygments_lexer": "ipython3",
   "version": "3.7.7"
  }
 },
 "nbformat": 4,
 "nbformat_minor": 4
}
