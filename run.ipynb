{
 "cells": [
  {
   "cell_type": "code",
   "execution_count": null,
   "metadata": {},
   "outputs": [],
   "source": [
    "import torch\n",
    "import imgaug.augmenters as iaa\n",
    "import numpy as np\n",
    "\n",
    "from architectures import UNet\n",
    "from dataset import dataset_gen\n",
    "import gpu_manager as gm\n",
    "import oper\n",
    "from stats import print_data"
   ]
  },
  {
   "cell_type": "markdown",
   "metadata": {},
   "source": [
    "## 1. Paths"
   ]
  },
  {
   "cell_type": "code",
   "execution_count": null,
   "metadata": {},
   "outputs": [],
   "source": [
    "train_path = '../RibFrac/preprocessed/train/'\n",
    "val_path = '../RibFrac/preprocessed/val/'\n",
    "\n",
    "save_path = 'saved_models/baseline.tar'\n",
    "stats_path = 'stats/baseline'"
   ]
  },
  {
   "cell_type": "markdown",
   "metadata": {},
   "source": [
    "## 2. Fix Backend (for reproducing results)"
   ]
  },
  {
   "cell_type": "code",
   "execution_count": null,
   "metadata": {},
   "outputs": [],
   "source": [
    "seed = 12\n",
    "torch.manual_seed(seed)\n",
    "torch.cuda.manual_seed_all(seed)\n",
    "torch.backends.cudnn.deterministic = True \n",
    "torch.backends.cudnn.benchmark = False"
   ]
  },
  {
   "cell_type": "markdown",
   "metadata": {},
   "source": [
    "## 3. GPU Test\n",
    "- TODO(3): Multi-GPU training/load balancing"
   ]
  },
  {
   "cell_type": "code",
   "execution_count": null,
   "metadata": {},
   "outputs": [],
   "source": [
    "if torch.cuda.is_available():\n",
    "    print('GPU is available.')\n",
    "    manager = gm.GPUManager()\n",
    "    device = torch.device(manager.auto_choice())\n",
    "else:\n",
    "    print('GPU is not available. Use CPU instead.')\n",
    "    device = torch.device('cpu')"
   ]
  },
  {
   "cell_type": "markdown",
   "metadata": {},
   "source": [
    "## 4. Data Preprocessing and Augmentation"
   ]
  },
  {
   "cell_type": "code",
   "execution_count": null,
   "metadata": {},
   "outputs": [],
   "source": [
    "seqs_train = []\n",
    "seqs_train.append(iaa.Sequential([\n",
    "    iaa.size.Resize(128, interpolation='nearest'),\n",
    "]))\n",
    "seqs_train.append(iaa.Sequential([\n",
    "    iaa.flip.Fliplr(1.0),\n",
    "    iaa.size.Resize(128, interpolation='nearest'),\n",
    "]))\n",
    "seqs_train.append(iaa.Sequential([\n",
    "    iaa.geometric.Affine(rotate=(-15,15), order=0),\n",
    "    iaa.size.Resize(128, interpolation='nearest'),\n",
    "]))\n",
    "seqs_train.append(iaa.Sequential([\n",
    "    iaa.geometric.Affine(scale=(0.8,1.2), order=0),\n",
    "    iaa.size.Resize(128, interpolation='nearest'),\n",
    "]))\n",
    "seqs_train.append(iaa.Sequential([\n",
    "    iaa.geometric.Affine(translate_px=(-32,32)),\n",
    "    iaa.size.Resize(128, interpolation='nearest'),\n",
    "]))\n",
    "\n",
    "seqs_val = [iaa.Sequential([\n",
    "    iaa.size.Resize(128, interpolation='nearest'),\n",
    "])]\n",
    "\n",
    "train_dataset = dataset_gen(train_path, seqs_train)\n",
    "val_dataset = dataset_gen(val_path, seqs_val)\n",
    "\n",
    "print('train size:', len(train_dataset))\n",
    "print('val size:', len(val_dataset))"
   ]
  },
  {
   "cell_type": "markdown",
   "metadata": {},
   "source": [
    "## 5. Parameter Selection\n",
    "### 5.1 Model Selection\n",
    "#### 5.1.1 U-Net"
   ]
  },
  {
   "cell_type": "code",
   "execution_count": null,
   "metadata": {},
   "outputs": [],
   "source": [
    "in_channels=1\n",
    "n_classes=2\n",
    "depth=5\n",
    "wf=6 \n",
    "padding=True\n",
    "batch_norm=False\n",
    "up_mode='upconv'\n",
    "\n",
    "\"\"\"\n",
    "Args:\n",
    "    in_channels (int): number of input channels\n",
    "    n_classes (int): number of output channels\n",
    "    depth (int): depth of the network\n",
    "    wf (int): number of filters in the first layer is 2**wf\n",
    "    padding (bool): if True, apply padding such that the input shape\n",
    "                    is the same as the output.\n",
    "                    This may introduce artifacts\n",
    "    batch_norm (bool): Use BatchNorm after layers with an\n",
    "                       activation function\n",
    "    up_mode (str): one of 'upconv' or 'upsample'.\n",
    "                   'upconv' will use transposed convolutions for\n",
    "                   learned upsampling.\n",
    "                   'upsample' will use bilinear upsampling.\n",
    "\"\"\"\n",
    "\n",
    "model = UNet(\n",
    "            in_channels=in_channels, \n",
    "            n_classes=n_classes, \n",
    "            depth=depth, \n",
    "            wf=wf, \n",
    "            padding=padding, \n",
    "            batch_norm=batch_norm, \n",
    "            up_mode=up_mode).to(device)"
   ]
  },
  {
   "cell_type": "markdown",
   "metadata": {},
   "source": [
    "### 5.1.2 \n",
    "- TODO(1): other nn architectures"
   ]
  },
  {
   "cell_type": "markdown",
   "metadata": {},
   "source": [
    "### 5.2 Optimizer Selection\n",
    "#### 5.2.1 `Adam`"
   ]
  },
  {
   "cell_type": "code",
   "execution_count": null,
   "metadata": {},
   "outputs": [],
   "source": [
    "lr = 1e-5\n",
    "betas = (0.9, 0.999)\n",
    "eps = 1e-08\n",
    "weight_decay = 0\n",
    "\n",
    "optim = torch.optim.Adam(model.parameters(), lr=lr, betas=betas, eps=eps, weight_decay=weight_decay)"
   ]
  },
  {
   "cell_type": "markdown",
   "metadata": {},
   "source": [
    "#### 5.2.2\n",
    "- TODO(1): other optimizers"
   ]
  },
  {
   "cell_type": "markdown",
   "metadata": {},
   "source": [
    "### 5.3 Loss function\n",
    "#### 5.3.1 BCE/Focal Loss\n",
    "- TODO(3): loss function init"
   ]
  },
  {
   "cell_type": "code",
   "execution_count": null,
   "metadata": {},
   "outputs": [],
   "source": [
    "loss_func = 'focal_loss'\n",
    "gamma = 0\n",
    "alpha = 0.75"
   ]
  },
  {
   "cell_type": "markdown",
   "metadata": {},
   "source": [
    "#### 5.3.2\n",
    "- TODO(2): other loss functions"
   ]
  },
  {
   "cell_type": "markdown",
   "metadata": {},
   "source": [
    "## 6. Model Training and Evaluation"
   ]
  },
  {
   "cell_type": "code",
   "execution_count": null,
   "metadata": {},
   "outputs": [],
   "source": [
    "epochs = 4\n",
    "pad = 0\n",
    "batch_size = 64\n",
    "\n",
    "stats = oper.run_model(\n",
    "            device = device,\n",
    "            train_dataset = train_dataset, \n",
    "            val_dataset = val_dataset,\n",
    "            model = model,\n",
    "            optim = optim, \n",
    "            loss_func=loss_func,\n",
    "            gamma = gamma, \n",
    "            alpha = alpha,\n",
    "            epochs = epochs,\n",
    "            pad = pad,\n",
    "            batch_size = batch_size,\n",
    "            save_path = save_path)"
   ]
  },
  {
   "cell_type": "markdown",
   "metadata": {},
   "source": [
    "## 7. Statistics\n",
    "- TODO(3): Tensorboard monitor"
   ]
  },
  {
   "cell_type": "code",
   "execution_count": null,
   "metadata": {},
   "outputs": [],
   "source": [
    "print_data(\n",
    "    epochs = epochs, \n",
    "    stats = stats, \n",
    "    stats_path = stats_path)"
   ]
  }
 ],
 "metadata": {
  "kernelspec": {
   "display_name": "Python [conda env:2dunet]",
   "language": "python",
   "name": "conda-env-2dunet-py"
  },
  "language_info": {
   "codemirror_mode": {
    "name": "ipython",
    "version": 3
   },
   "file_extension": ".py",
   "mimetype": "text/x-python",
   "name": "python",
   "nbconvert_exporter": "python",
   "pygments_lexer": "ipython3",
   "version": "3.7.7"
  }
 },
 "nbformat": 4,
 "nbformat_minor": 4
}
