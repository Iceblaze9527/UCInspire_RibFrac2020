{
 "cells": [
  {
   "cell_type": "code",
   "execution_count": null,
   "metadata": {},
   "outputs": [],
   "source": [
    "import os\n",
    "import re\n",
    "\n",
    "import torch\n",
    "from torch.utils.data import ConcatDataset\n",
    "\n",
    "from architecture import FeatureNet\n",
    "from dataset import DatasetGen"
   ]
  },
  {
   "cell_type": "markdown",
   "metadata": {},
   "source": [
    "## 1. Paths"
   ]
  },
  {
   "cell_type": "code",
   "execution_count": null,
   "metadata": {},
   "outputs": [],
   "source": [
    "img_path = '/home/yutongx/src_data/images/'\n",
    "bbox_path = '/home/yutongx/src_data/bbox/'\n",
    "\n",
    "img_train_path = os.path.join(img_path, 'train')\n",
    "img_val_path = os.path.join(img_path, 'val')\n",
    "\n",
    "bbox_train_path = os.path.join(bbox_path, 'train')\n",
    "bbox_val_path = os.path.join(bbox_path, 'val')"
   ]
  },
  {
   "cell_type": "markdown",
   "metadata": {},
   "source": [
    "## 2. Fix Backend (for reproducing results)"
   ]
  },
  {
   "cell_type": "raw",
   "metadata": {},
   "source": [
    "seed = 14\n",
    "torch.manual_seed(seed)\n",
    "torch.cuda.manual_seed_all(seed)\n",
    "torch.backends.cudnn.deterministic = True \n",
    "torch.backends.cudnn.benchmark = False"
   ]
  },
  {
   "cell_type": "markdown",
   "metadata": {},
   "source": [
    "## 3. Data Preprocessing and Augmentation"
   ]
  },
  {
   "cell_type": "code",
   "execution_count": null,
   "metadata": {},
   "outputs": [],
   "source": [
    "def dataset_gen(img_path, bbox_path, resize=64):\n",
    "    idx = lambda name: re.sub(r'\\D', '', name)\n",
    "    get_names = lambda path: sorted([os.path.join(path, name) for name in os.listdir(path)], key=idx)\n",
    "    \n",
    "    img_names = get_names(img_path)\n",
    "    bbox_names = get_names(bbox_path)\n",
    "    \n",
    "    datasets = []\n",
    "    for img_name, bbox_name in zip(img_names, bbox_names):\n",
    "        datasets.append(DatasetGen(img_name, bbox_name, resize))\n",
    "    \n",
    "    return ConcatDataset(datasets)"
   ]
  },
  {
   "cell_type": "code",
   "execution_count": null,
   "metadata": {},
   "outputs": [],
   "source": [
    "train_dataset = dataset_gen(img_train_path, bbox_train_path, resize = 64)\n",
    "val_dataset = dataset_gen(img_val_path, bbox_val_path, resize = 64)\n",
    "\n",
    "print('train size:', len(train_dataset))\n",
    "print('val size:', len(val_dataset))"
   ]
  },
  {
   "cell_type": "markdown",
   "metadata": {},
   "source": [
    "## 4. Parameter Selection\n",
    "### 4.1 Model"
   ]
  },
  {
   "cell_type": "code",
   "execution_count": null,
   "metadata": {},
   "outputs": [],
   "source": []
  },
  {
   "cell_type": "markdown",
   "metadata": {},
   "source": [
    "### 4.2 Optimizer Selection"
   ]
  },
  {
   "cell_type": "code",
   "execution_count": null,
   "metadata": {},
   "outputs": [],
   "source": [
    "lr = 1e-5\n",
    "betas = (0.9, 0.999)\n",
    "eps = 1e-08\n",
    "weight_decay = 0\n",
    "\n",
    "optim = torch.optim.Adam(model.parameters(), lr=lr, betas=betas, eps=eps, weight_decay=weight_decay)"
   ]
  },
  {
   "cell_type": "markdown",
   "metadata": {},
   "source": [
    "## 5. Model Training and Evaluation"
   ]
  },
  {
   "cell_type": "code",
   "execution_count": null,
   "metadata": {},
   "outputs": [],
   "source": [
    "model = Model(input_size, output_size)\n",
    "\n",
    "if torch.cuda.device_count() > 1:\n",
    "    print(\"Let's use\", torch.cuda.device_count(), \"GPUs!\")\n",
    "    model = nn.DataParallel(model)\n",
    "\n",
    "model.to(device)"
   ]
  },
  {
   "cell_type": "code",
   "execution_count": null,
   "metadata": {},
   "outputs": [],
   "source": [
    "model = nn.DataParallel(model)"
   ]
  },
  {
   "cell_type": "code",
   "execution_count": null,
   "metadata": {},
   "outputs": [],
   "source": [
    "epochs = 4\n",
    "pad = 0\n",
    "batch_size = 64\n",
    "\n",
    "stats = oper.run_model(\n",
    "            device = device,\n",
    "            train_dataset = train_dataset, \n",
    "            val_dataset = val_dataset,\n",
    "            model = model,\n",
    "            optim = optim, \n",
    "            epochs = epochs,\n",
    "            batch_size = batch_size,\n",
    "            save_path = save_path)"
   ]
  },
  {
   "cell_type": "code",
   "execution_count": null,
   "metadata": {},
   "outputs": [],
   "source": []
  }
 ],
 "metadata": {
  "kernelspec": {
   "display_name": "Python [conda env:main]",
   "language": "python",
   "name": "conda-env-main-py"
  },
  "language_info": {
   "codemirror_mode": {
    "name": "ipython",
    "version": 3
   },
   "file_extension": ".py",
   "mimetype": "text/x-python",
   "name": "python",
   "nbconvert_exporter": "python",
   "pygments_lexer": "ipython3",
   "version": "3.7.7"
  }
 },
 "nbformat": 4,
 "nbformat_minor": 4
}
