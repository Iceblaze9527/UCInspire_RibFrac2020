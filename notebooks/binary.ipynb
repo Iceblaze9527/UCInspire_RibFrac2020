{
 "cells": [
  {
   "cell_type": "code",
   "execution_count": 1,
   "metadata": {},
   "outputs": [],
   "source": [
    "import os\n",
    "\n",
    "import numpy as np"
   ]
  },
  {
   "cell_type": "code",
   "execution_count": 2,
   "metadata": {},
   "outputs": [],
   "source": [
    "save_path = '/home/yutongx/src_data/bbox_multi'\n",
    "\n",
    "save_train_path = os.path.join(save_path, \"train\")\n",
    "save_val_path = os.path.join(save_path, \"val\")"
   ]
  },
  {
   "cell_type": "code",
   "execution_count": 3,
   "metadata": {},
   "outputs": [],
   "source": [
    "get_names = lambda path: sorted([os.path.join(path, name) for name in os.listdir(path)])\n",
    "\n",
    "def foo(save_path):\n",
    "    bbox_names = get_names(save_path)\n",
    "    \n",
    "    for name in bbox_names:\n",
    "        data = np.load(name, allow_pickle=True)\n",
    "        data = [data['gt_pos'], data['rpn_pos'], data['rpn_neg']]\n",
    "        for block in data:\n",
    "            for i in range(block.shape[0]):\n",
    "                block[i, -1] = 0 if block[i, -1] == 0 else 1\n",
    "        np.savez(name, gt_pos=data[0], rpn_pos=data[1], rpn_neg=data[2])"
   ]
  },
  {
   "cell_type": "code",
   "execution_count": 4,
   "metadata": {},
   "outputs": [],
   "source": [
    "foo(save_val_path)"
   ]
  },
  {
   "cell_type": "code",
   "execution_count": 5,
   "metadata": {},
   "outputs": [],
   "source": [
    "foo(save_train_path)"
   ]
  },
  {
   "cell_type": "code",
   "execution_count": null,
   "metadata": {},
   "outputs": [],
   "source": []
  }
 ],
 "metadata": {
  "kernelspec": {
   "display_name": "Python [conda env:main]",
   "language": "python",
   "name": "conda-env-main-py"
  },
  "language_info": {
   "codemirror_mode": {
    "name": "ipython",
    "version": 3
   },
   "file_extension": ".py",
   "mimetype": "text/x-python",
   "name": "python",
   "nbconvert_exporter": "python",
   "pygments_lexer": "ipython3",
   "version": "3.7.7"
  }
 },
 "nbformat": 4,
 "nbformat_minor": 4
}
