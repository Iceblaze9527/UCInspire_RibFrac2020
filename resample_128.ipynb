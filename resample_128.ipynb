{
 "cells": [
  {
   "cell_type": "code",
   "execution_count": null,
   "metadata": {},
   "outputs": [],
   "source": [
    "import os\n",
    "\n",
    "import h5py\n",
    "import numpy as np\n",
    "from scipy.ndimage.interpolation import zoom"
   ]
  },
  {
   "cell_type": "code",
   "execution_count": null,
   "metadata": {},
   "outputs": [],
   "source": [
    "data_root = '/home/yutongx/local_data/'\n",
    "\n",
    "src_root = os.path.join(data_root, 'preprocessed_3d')\n",
    "src_train_path = os.path.join(src_root, 'train')\n",
    "src_val_path = os.path.join(src_root, 'val')\n",
    "\n",
    "dst_root = os.path.join(data_root, 'preprocessed_3d_128')\n",
    "dst_train_path = os.path.join(dst_root, 'train')\n",
    "dst_val_path = os.path.join(dst_root, 'val')"
   ]
  },
  {
   "cell_type": "code",
   "execution_count": null,
   "metadata": {},
   "outputs": [],
   "source": [
    "def downsampling(src_path, dst_path, order, gamma=None, median=None):\n",
    "    src_names = sorted(os.listdir(src_path))\n",
    "    \n",
    "    for src_name in src_names:\n",
    "        file_src = h5py.File(os.path.join(src_path, src_name),'r')\n",
    "        img = file_src['raw'][:]\n",
    "        lbl = file_src['label'][:]\n",
    "        img_shape = file_src['ori_shape'][:]\n",
    "        img_affine = file_src['ori_affine'][:]\n",
    "        file_src.close()\n",
    "        \n",
    "        #gamma transformation, optional, use value smaller than 1\n",
    "        if gamma is not None:\n",
    "            img = img**(gamma)\n",
    "        #median filter, optional\n",
    "        if median is True:\n",
    "            img = cv2.medianBlur(img, 3)\n",
    "        \n",
    "        img_resampled = (zoom(img, (0.5,1,1), order=order, mode='nearest')).astype(np.float32)\n",
    "        lbl_resampled = (zoom(lbl, (0.5,1,1), order=order, mode='nearest')).astype(np.uint8)\n",
    "\n",
    "        file_dst = h5py.File(os.path.join(dst_path, src_name),'w')\n",
    "        file_dst.create_dataset('raw', data=img_resampled)\n",
    "        file_dst.create_dataset('label', data=lbl_resampled)\n",
    "        file.create_dataset('ori_shape', data=img_shape)\n",
    "        file_dst.create_dataset('ori_affine', data=img_affine)\n",
    "        file_dst.close()"
   ]
  },
  {
   "cell_type": "code",
   "execution_count": null,
   "metadata": {},
   "outputs": [],
   "source": [
    "downsampling(src_train_path, dst_train_path, order=0)"
   ]
  },
  {
   "cell_type": "code",
   "execution_count": null,
   "metadata": {},
   "outputs": [],
   "source": [
    "downsampling(src_val_path, dst_val_path, order=0)"
   ]
  }
 ],
 "metadata": {
  "kernelspec": {
   "display_name": "Python [conda env:main]",
   "language": "python",
   "name": "conda-env-main-py"
  },
  "language_info": {
   "codemirror_mode": {
    "name": "ipython",
    "version": 3
   },
   "file_extension": ".py",
   "mimetype": "text/x-python",
   "name": "python",
   "nbconvert_exporter": "python",
   "pygments_lexer": "ipython3",
   "version": "3.7.7"
  }
 },
 "nbformat": 4,
 "nbformat_minor": 4
}
