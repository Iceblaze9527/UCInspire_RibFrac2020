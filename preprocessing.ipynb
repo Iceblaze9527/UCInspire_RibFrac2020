{
 "cells": [
  {
   "cell_type": "code",
   "execution_count": null,
   "metadata": {},
   "outputs": [],
   "source": [
    "import os\n",
    "import re\n",
    "\n",
    "import nibabel as nib\n",
    "import numpy as np"
   ]
  },
  {
   "cell_type": "code",
   "execution_count": null,
   "metadata": {},
   "outputs": [],
   "source": [
    "det_path = \"/home/yxy/disk/Repository/RibFrac/NoduleNet/results/cross_val_test/res/72\"\n",
    "gt_path = \"/home/yutongx/src_data/labels\"\n",
    "save_path = \"./\"\n",
    "\n",
    "gt_train_path = os.path.join(gt_path, \"train\")\n",
    "gt_val_path = os.path.join(gt_path, \"val\")\n",
    "\n",
    "save_train_path = os.path.join(save_path, \"train\")\n",
    "save_val_path = os.path.join(save_path, \"val\")"
   ]
  },
  {
   "cell_type": "code",
   "execution_count": null,
   "metadata": {},
   "outputs": [],
   "source": [
    "det_names = sorted(os.listdir(det_path))\n",
    "\n",
    "if len(det_names) == 500:\n",
    "    det_train_names = det_names[:420]\n",
    "    det_val_names = det_names[-80:]\n",
    "else:\n",
    "    raise ValueError('detection names mismatch.')\n",
    "    \n",
    "gt_train_names = sorted(os.listdir(gt_train_path))\n",
    "gt_val_names = sorted(os.listdir(gt_val_path))"
   ]
  },
  {
   "cell_type": "code",
   "execution_count": null,
   "metadata": {},
   "outputs": [],
   "source": [
    "def masks2bboxes(masks, border):\n",
    "    instance_nums = [num for num in np.unique(masks) if num]\n",
    "    print('instance num:', instance_nums)\n",
    "    bboxes = []\n",
    "    \n",
    "    for i in instance_nums:\n",
    "        mask = (masks == i)\n",
    "        if np.any(mask):\n",
    "            zz, yy, xx = np.where(mask)\n",
    "            bboxes.append([(zz.max() + zz.min()) / 2.,\n",
    "                           (yy.max() + yy.min()) / 2.,\n",
    "                           (xx.max() + xx.min()) / 2.,\n",
    "                           zz.max() - zz.min() + 1 + border,\n",
    "                           yy.max() - yy.min() + 1 + border,\n",
    "                           xx.max() - xx.min() + 1 + border,\n",
    "                           1])\n",
    "    return bboxes"
   ]
  },
  {
   "cell_type": "code",
   "execution_count": null,
   "metadata": {},
   "outputs": [],
   "source": [
    "# [prob, z_center, y_center, x_center, depth, height, width]\n",
    "\n",
    "def foo(gt_names, det_names, save_path):\n",
    "    for gt_name, det_name in zip(gt_names, det_names):\n",
    "        print('gt_name:', gt_name)\n",
    "        print('det_name:', det_name)\n",
    "        \n",
    "        gt_img = (np.swapaxis(nib.load(gt_name).get_fdata(), -1, 0)).astype(np.uint8)\n",
    "        det_bbox = np.load(det_name, allow_pickle = True)##\n",
    "        \n",
    "        gt_bbox = masks2bboxes(gt_img, border=8)\n",
    "        \n",
    "        for gt in gt_bbox:\n",
    "            det_sorted = sorted(det_bbox, key=lambda det: np.abs(det[1:4]-gt[:3]).sum())##\n",
    "            \n",
    "            for det in det_sorted:\n",
    "                len_z = (det[4] + gt[3])/2 - abs(det[1] - gt[0])\n",
    "                len_y = (det[5] + gt[4])/2 - abs(det[2] - gt[1])\n",
    "                len_x = (det[6] + gt[5])/2 - abs(det[3] - gt[2])\n",
    "                \n",
    "                if len_z>0 and len_y>0 and len_x>0:### eliminate ambiguious cases\n",
    "                    #det_pos\n",
    "                    intsc = len_z*len_y*len_x\n",
    "                    iou = intsc / ( det[4]*det[5]*det[6] + gt[3]*gt[4]*gt[5] - intsc \n",
    "                                   + np.finfo(intsc.dtype).eps) "
   ]
  },
  {
   "cell_type": "raw",
   "metadata": {},
   "source": [
    "gt_idx = re.search(r'[0-9]+', gt_name).group()\n",
    "det_idx = re.search(r'[0-9]+', det_name).group()\n",
    "\n",
    "pid = re.sub(r\"\\D\", \"\", img_name)"
   ]
  },
  {
   "cell_type": "code",
   "execution_count": null,
   "metadata": {},
   "outputs": [],
   "source": []
  }
 ],
 "metadata": {
  "kernelspec": {
   "display_name": "Python [conda env:main]",
   "language": "python",
   "name": "conda-env-main-py"
  },
  "language_info": {
   "codemirror_mode": {
    "name": "ipython",
    "version": 3
   },
   "file_extension": ".py",
   "mimetype": "text/x-python",
   "name": "python",
   "nbconvert_exporter": "python",
   "pygments_lexer": "ipython3",
   "version": "3.7.7"
  }
 },
 "nbformat": 4,
 "nbformat_minor": 4
}
