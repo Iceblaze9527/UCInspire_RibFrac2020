{
 "cells": [
  {
   "cell_type": "code",
   "execution_count": null,
   "metadata": {},
   "outputs": [],
   "source": [
    "import os\n",
    "import re\n",
    "import sys\n",
    "\n",
    "import nibabel as nib\n",
    "import numpy as np"
   ]
  },
  {
   "cell_type": "code",
   "execution_count": null,
   "metadata": {},
   "outputs": [],
   "source": [
    "det_path = \"/home/yutongx/src_data/det_bbox\"\n",
    "gt_path = \"/home/yutongx/src_data/labels\"\n",
    "save_path = \"./bbox\"\n",
    " \n",
    "gt_train_path = os.path.join(gt_path, \"train\")\n",
    "gt_val_path = os.path.join(gt_path, \"val\")\n",
    "\n",
    "save_train_path = os.path.join(save_path, \"train\")\n",
    "save_val_path = os.path.join(save_path, \"val\")"
   ]
  },
  {
   "cell_type": "code",
   "execution_count": null,
   "metadata": {},
   "outputs": [],
   "source": [
    "idx = lambda name: re.sub(r\"\\D\", \"\", name)\n",
    "get_names =lambda path: sorted([os.path.join(path, name) for name in os.listdir(path)])\n",
    "\n",
    "det_names = get_names(det_path)\n",
    "if len(det_names) == 500:\n",
    "    det_train_names = sorted([name for name in det_names if int(idx(name))<=420], key=idx)\n",
    "    det_val_names = sorted([name for name in det_names if int(idx(name))>420], key=idx)\n",
    "else:\n",
    "    raise ValueError('Detection names mismatch.')\n",
    "    \n",
    "gt_train_names = get_names(gt_train_path)\n",
    "gt_val_names = get_names(gt_val_path)"
   ]
  },
  {
   "cell_type": "code",
   "execution_count": null,
   "metadata": {},
   "outputs": [],
   "source": [
    "def masks2bboxes(masks, border):\n",
    "    instance_nums = [num for num in np.unique(masks) if num]\n",
    "    bboxes = []\n",
    "    \n",
    "    for i in instance_nums:\n",
    "        mask = (masks == i)\n",
    "        if np.any(mask):\n",
    "            zz, yy, xx = np.where(mask)\n",
    "            bboxes.append([(zz.max() + zz.min()) / 2.,\n",
    "                           (yy.max() + yy.min()) / 2.,\n",
    "                           (xx.max() + xx.min()) / 2.,\n",
    "                           zz.max() - zz.min() + 1 + border,\n",
    "                           yy.max() - yy.min() + 1 + border,\n",
    "                           xx.max() - xx.min() + 1 + border])\n",
    "    return bboxes\n",
    "\n",
    "def remove_array(lst,arr,idx=0):\n",
    "    size = len(lst)\n",
    "    while idx != size and not np.array_equal(lst[idx],arr):\n",
    "        idx += 1\n",
    "    if idx != size:\n",
    "        lst.pop(idx)\n",
    "    else:\n",
    "        raise ValueError('array not found in list.')\n",
    "\n",
    "def preprocessing(det_names, gt_names, save_path, border=8, th=0.2, eps=0.02):\n",
    "    save_path = save_path if os.path.exists(save_path) else os.makedirs(save_path)\n",
    "    \n",
    "    for det_name, gt_name in zip(det_names, gt_names):\n",
    "        print('====================')\n",
    "        print('det_name:', det_name)\n",
    "        print('gt_name:', gt_name)\n",
    "        \n",
    "        assert idx(det_name) == idx(gt_name), 'Index Mismatch.'\n",
    "        \n",
    "        det_src = np.load(det_name, allow_pickle=True)\n",
    "        gt_src = (np.swapaxes(nib.load(gt_name).get_fdata(), -1, 0)).astype(np.uint8)\n",
    "\n",
    "        gt_pos = masks2bboxes(gt_src, border=border)\n",
    "        rpn_pos = []\n",
    "        rpn_neg = [det_src[i, 1:] for i in range(det_src.shape[0])]\n",
    "        \n",
    "        print('gt_num:', len(gt_pos))\n",
    "        for index, gt in enumerate(gt_pos):\n",
    "            print('--------------------')\n",
    "            print('gt_idx:', index)\n",
    "            print('gt_cen:', np.around(gt[:3], 2))\n",
    "            print('gt_size:', np.around(gt[3:], 2))\n",
    "            \n",
    "            hit = 1\n",
    "            for rpn in rpn_neg:\n",
    "                intsc = (rpn[3:] + gt[3:])/2 - np.abs(rpn[:3] - gt[:3])#calculate intersection size in 3 dims\n",
    "                \n",
    "                if np.all(intsc >= 1):\n",
    "                    print('----------')\n",
    "                    print('hit #%d:'%(hit))\n",
    "                    print('rpn_cen:', np.around(rpn[:3], 2))\n",
    "                    print('rpn_size:', np.around(rpn[3:], 2))\n",
    "                    \n",
    "                    hit +=1\n",
    "                    intsc_vol = np.prod(intsc)\n",
    "                    iou = intsc_vol / (np.prod(rpn[3:]) + np.prod(gt[3:]) - intsc_vol \n",
    "                                   + np.finfo(intsc_vol.dtype).eps)#calculate iou\n",
    "                    \n",
    "                    print('iou:', round(iou, 4))\n",
    "                    if iou > th - eps:\n",
    "                        remove_array(rpn_neg, rpn)#ambi\n",
    "                        if iou > th + eps:#pos\n",
    "                            rpn_pos.append(rpn)\n",
    "            \n",
    "        \n",
    "        np.savez(os.path.join(save_path, ''.join((idx(gt_name), '_bbox.npz'))), \n",
    "                 gt_pos = np.array(gt_pos), rpn_pos=np.array(rpn_pos), rpn_neg=np.array(rpn_neg))"
   ]
  },
  {
   "cell_type": "code",
   "execution_count": null,
   "metadata": {},
   "outputs": [],
   "source": [
    "preprocessing(det_train_names, gt_train_names, save_train_path, border=8, th=0.2, eps=0.02)"
   ]
  },
  {
   "cell_type": "code",
   "execution_count": null,
   "metadata": {},
   "outputs": [],
   "source": [
    "preprocessing(det_val_names, gt_val_names, save_val_path, border=8, th=0.2, eps=0.02)"
   ]
  },
  {
   "cell_type": "code",
   "execution_count": null,
   "metadata": {},
   "outputs": [],
   "source": []
  }
 ],
 "metadata": {
  "kernelspec": {
   "display_name": "Python [conda env:main]",
   "language": "python",
   "name": "conda-env-main-py"
  },
  "language_info": {
   "codemirror_mode": {
    "name": "ipython",
    "version": 3
   },
   "file_extension": ".py",
   "mimetype": "text/x-python",
   "name": "python",
   "nbconvert_exporter": "python",
   "pygments_lexer": "ipython3",
   "version": "3.7.7"
  }
 },
 "nbformat": 4,
 "nbformat_minor": 4
}
