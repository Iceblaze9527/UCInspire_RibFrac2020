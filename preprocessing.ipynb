{
 "cells": [
  {
   "cell_type": "code",
   "execution_count": 1,
   "metadata": {},
   "outputs": [],
   "source": [
    "import os\n",
    "import re\n",
    "\n",
    "import nibabel as nib\n",
    "import numpy as np\n",
    "from tqdm import tqdm"
   ]
  },
  {
   "cell_type": "code",
   "execution_count": null,
   "metadata": {},
   "outputs": [],
   "source": [
    "det_path = \"/home/yxy/disk/Repository/RibFrac/NoduleNet/results/cross_val_test/res/72\"\n",
    "gt_path = \"/home/yutongx/src_data/labels\"\n",
    "save_path = \"./bbox\"\n",
    " \n",
    "gt_train_path = os.path.join(gt_path, \"train\")\n",
    "gt_val_path = os.path.join(gt_path, \"val\")\n",
    "\n",
    "save_train_path = os.path.join(save_path, \"train\")\n",
    "save_val_path = os.path.join(save_path, \"val\")"
   ]
  },
  {
   "cell_type": "code",
   "execution_count": null,
   "metadata": {},
   "outputs": [],
   "source": [
    "det_names = sorted(os.listdir(det_path))\n",
    "\n",
    "if len(det_names) == 500:\n",
    "    det_train_names = det_names[:420]\n",
    "    det_val_names = det_names[-80:]\n",
    "else:\n",
    "    raise ValueError('Detection names mismatch.')\n",
    "    \n",
    "gt_train_names = sorted(os.listdir(gt_train_path))\n",
    "gt_val_names = sorted(os.listdir(gt_val_path))"
   ]
  },
  {
   "cell_type": "code",
   "execution_count": null,
   "metadata": {},
   "outputs": [],
   "source": [
    "def masks2bboxes(masks, border):\n",
    "    instance_nums = [num for num in np.unique(masks) if num]\n",
    "    bboxes = []\n",
    "    \n",
    "    for i in instance_nums:\n",
    "        mask = (masks == i)\n",
    "        if np.any(mask):\n",
    "            zz, yy, xx = np.where(mask)\n",
    "            bboxes.append([(zz.max() + zz.min()) / 2.,\n",
    "                           (yy.max() + yy.min()) / 2.,\n",
    "                           (xx.max() + xx.min()) / 2.,\n",
    "                           zz.max() - zz.min() + 1 + border,\n",
    "                           yy.max() - yy.min() + 1 + border,\n",
    "                           xx.max() - xx.min() + 1 + border,\n",
    "                           1])\n",
    "    return bboxes\n",
    "\n",
    "def preprocessing(det_names, gt_names, save_path, border=8, th=0.2):\n",
    "    idx = lambda name: re.sub(r\"\\D\", \"\", name)\n",
    "    save_path = save_path if os.path.exists(save_path) else os.makedirs(save_path)\n",
    "    \n",
    "    for det_name, gt_name in tqdm(zip(det_names, gt_names)):\n",
    "        print('====================')\n",
    "        print('det_name:', det_name)\n",
    "        print('gt_name:', gt_name)\n",
    "        \n",
    "        if idx(det_name) != idx(gt_name):\n",
    "            raise ValueError('Index Mismatch.')\n",
    "        \n",
    "        det_src = np.load(det_name, allow_pickle = True)\n",
    "        gt_src = (np.swapaxis(nib.load(gt_name).get_fdata(), -1, 0)).astype(np.uint8)\n",
    "\n",
    "        gt_pos = masks2bboxes(gt_src, border=border)\n",
    "        rpn_pos = []\n",
    "        rpn_neg = [det[i, 1:] for i in range(det_src.shape[0])]\n",
    "        \n",
    "        print('--------------------')\n",
    "        print('det_nums': det_pos.shape)\n",
    "        print('gt_nums': gt_pos.shape)\n",
    "        \n",
    "        for gt in tqdm(gt_pos):\n",
    "            print('cen:', np.around(gt[3:],2))\n",
    "            ##cnt = 0\n",
    "            for rpn in rpn_neg:\n",
    "                intsc = (rpn[3:] + gt[3:])/2 - np.abs(rpn[:3] - gt[:3])#calculate intersection size in 3 dims\n",
    "                if np.all(intsc > border//2):\n",
    "                    print('rpn hit:')\n",
    "                    intsc_vol = np.prod(intsc)\n",
    "                    iou = intsc_vol / (np.prod(rpn[3:]) + np.prod(gt[3:]) - intsc_vol \n",
    "                                   + np.finfo(intsc_vol.dtype).eps)\n",
    "                    print('iou:', iou)\n",
    "                    if iou > th:\n",
    "                        #reduce ambiguity\n",
    "                        rpn_pos.append(rpn)\n",
    "                        rpn_neg.remove(rpn)\n",
    "        \n",
    "        np.savez(os.path.join(save_path, idx(gt_name).join('_bbox.npz')), \n",
    "                 gt_pos = np.array(gt_pos), rpn_pos=np.array(rpn_pos), rpn_neg=np.array(rpn_neg))"
   ]
  },
  {
   "cell_type": "raw",
   "metadata": {},
   "source": [
    "rpn_sorted = sorted(rpn_neg, key=lambda rpn: np.abs(rpn[:3]-gt[:3]).sum())##L1 dist"
   ]
  },
  {
   "cell_type": "code",
   "execution_count": 3,
   "metadata": {},
   "outputs": [
    {
     "name": "stderr",
     "output_type": "stream",
     "text": [
      "\n",
      "  0%|          | 0/100 [00:14<?, ?it/s]\u001b[A\n",
      "\n",
      " 10%|█         | 10/100 [00:00<00:00, 98.58it/s]\u001b[A\n",
      " 20%|██        | 20/100 [00:00<00:00, 98.24it/s]\u001b[A\n",
      " 30%|███       | 30/100 [00:00<00:00, 98.01it/s]\u001b[A\n",
      " 40%|████      | 40/100 [00:00<00:00, 97.80it/s]\u001b[A\n",
      " 50%|█████     | 50/100 [00:00<00:00, 97.79it/s]\u001b[A\n",
      " 60%|██████    | 60/100 [00:00<00:00, 97.71it/s]\u001b[A\n",
      " 70%|███████   | 70/100 [00:00<00:00, 97.66it/s]\u001b[A\n",
      " 80%|████████  | 80/100 [00:00<00:00, 97.58it/s]\u001b[A\n",
      " 90%|█████████ | 90/100 [00:00<00:00, 97.52it/s]\u001b[A\n",
      "100%|██████████| 100/100 [00:01<00:00, 97.27it/s]\u001b[A\n"
     ]
    }
   ],
   "source": [
    "from time import sleep\n",
    "pbar = tqdm(total=100)\n",
    "for i in range(10):\n",
    "    sleep(0.1)\n",
    "    pbar.update(10)\n",
    "pbar.close()"
   ]
  },
  {
   "cell_type": "code",
   "execution_count": null,
   "metadata": {},
   "outputs": [],
   "source": []
  }
 ],
 "metadata": {
  "kernelspec": {
   "display_name": "Python [conda env:main]",
   "language": "python",
   "name": "conda-env-main-py"
  },
  "language_info": {
   "codemirror_mode": {
    "name": "ipython",
    "version": 3
   },
   "file_extension": ".py",
   "mimetype": "text/x-python",
   "name": "python",
   "nbconvert_exporter": "python",
   "pygments_lexer": "ipython3",
   "version": "3.7.7"
  }
 },
 "nbformat": 4,
 "nbformat_minor": 4
}
